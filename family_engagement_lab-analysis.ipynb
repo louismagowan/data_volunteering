{
  "nbformat": 4,
  "nbformat_minor": 0,
  "metadata": {
    "colab": {
      "name": "charity_analysis.ipynb",
      "provenance": [],
      "include_colab_link": true
    },
    "kernelspec": {
      "name": "python3",
      "display_name": "Python 3"
    }
  },
  "cells": [
    {
      "cell_type": "markdown",
      "metadata": {
        "id": "view-in-github",
        "colab_type": "text"
      },
      "source": [
        "<a href=\"https://colab.research.google.com/github/louismagowan/data_volunteering/blob/main/family_engagement_lab-analysis.ipynb\" target=\"_parent\"><img src=\"https://colab.research.google.com/assets/colab-badge.svg\" alt=\"Open In Colab\"/></a>"
      ]
    },
    {
      "cell_type": "markdown",
      "metadata": {
        "id": "gfTuhy1kp3F1"
      },
      "source": [
        "**Codes in original dataset**\n",
        "\n",
        "Lunch Status: 00 = does not quality for free or reduced-price lunch, 01 = does qualify for free or reduced-price lunch\n",
        "\n",
        "English proficiency: 1 = proficient in English, 2 = English learner\n",
        "\n",
        "Special education: 1 = special education, nothing = not receiving \n",
        "special education services\n",
        "\n",
        "FASTalk student: 1 = receiving FASTalk intervention, 0 = not receiving FASTalk intervention\n",
        "\n",
        "Fall assessment is the baseline"
      ]
    },
    {
      "cell_type": "code",
      "metadata": {
        "id": "CbUCgDMHO9-Q",
        "colab": {
          "base_uri": "https://localhost:8080/",
          "height": 125
        },
        "outputId": "54b1a180-0a70-4683-c739-2fb4590ef082"
      },
      "source": [
        "from google.colab import drive\n",
        "drive.mount('/content/drive')"
      ],
      "execution_count": null,
      "outputs": [
        {
          "output_type": "stream",
          "text": [
            "Go to this URL in a browser: https://accounts.google.com/o/oauth2/auth?client_id=947318989803-6bn6qk8qdgf4n4g3pfee6491hc0brc4i.apps.googleusercontent.com&redirect_uri=urn%3aietf%3awg%3aoauth%3a2.0%3aoob&response_type=code&scope=email%20https%3a%2f%2fwww.googleapis.com%2fauth%2fdocs.test%20https%3a%2f%2fwww.googleapis.com%2fauth%2fdrive%20https%3a%2f%2fwww.googleapis.com%2fauth%2fdrive.photos.readonly%20https%3a%2f%2fwww.googleapis.com%2fauth%2fpeopleapi.readonly\n",
            "\n",
            "Enter your authorization code:\n",
            "··········\n",
            "Mounted at /content/drive\n"
          ],
          "name": "stdout"
        }
      ]
    },
    {
      "cell_type": "code",
      "metadata": {
        "id": "gB66uhgzO0TC",
        "colab": {
          "base_uri": "https://localhost:8080/",
          "height": 34
        },
        "outputId": "465072e9-24ce-4cf6-bfb5-5a7af1a524ba"
      },
      "source": [
        "cd /content/drive/My\\ Drive/Data\\ Charity\\ Stuff/"
      ],
      "execution_count": null,
      "outputs": [
        {
          "output_type": "stream",
          "text": [
            "/content/drive/My Drive/Data Team Charity Stuff\n"
          ],
          "name": "stdout"
        }
      ]
    },
    {
      "cell_type": "code",
      "metadata": {
        "id": "ywY3I9hJnh6z",
        "colab": {
          "base_uri": "https://localhost:8080/",
          "height": 34
        },
        "outputId": "e6a11ab1-5c4c-4f53-d35b-b4284fa78ec1"
      },
      "source": [
        "pwd"
      ],
      "execution_count": null,
      "outputs": [
        {
          "output_type": "execute_result",
          "data": {
            "text/plain": [
              "'/content/drive/My Drive/Data Team Charity Stuff'"
            ]
          },
          "metadata": {
            "tags": []
          },
          "execution_count": 3
        }
      ]
    },
    {
      "cell_type": "code",
      "metadata": {
        "id": "Q9OYAxML84S-"
      },
      "source": [
        "import sys\n",
        "sys.path.append('/content/drive/My\\ Drive/Data\\ Team\\ Charity\\ Stuff/')"
      ],
      "execution_count": null,
      "outputs": []
    },
    {
      "cell_type": "markdown",
      "metadata": {
        "id": "MW-0b6XonmG9"
      },
      "source": [
        "# Import and Clean Data\n",
        "\n",
        "---\n",
        "\n",
        "\n",
        "\n",
        "---\n",
        "\n",
        "\n",
        "\n",
        "---\n",
        "\n",
        "\n",
        "\n",
        "---\n",
        "\n",
        "\n",
        "\n"
      ]
    },
    {
      "cell_type": "code",
      "metadata": {
        "id": "g1-1XU9BZ1Eb",
        "colab": {
          "base_uri": "https://localhost:8080/",
          "height": 72
        },
        "outputId": "bb7ca02a-9ece-40d3-87b1-3f3821639440"
      },
      "source": [
        "#@title Import Tools { display-mode: \"form\" }\n",
        "\n",
        "import pandas as pd\n",
        "import numpy as np\n",
        "import matplotlib.pyplot as plt\n",
        "import matplotlib.ticker as ticker\n",
        "import os\n",
        "import seaborn as sn\n",
        "import plots\n",
        "import seaborn as sn\n",
        "from scipy import stats\n",
        "import statsmodels.api as sm"
      ],
      "execution_count": null,
      "outputs": [
        {
          "output_type": "stream",
          "text": [
            "/usr/local/lib/python3.6/dist-packages/statsmodels/tools/_testing.py:19: FutureWarning: pandas.util.testing is deprecated. Use the functions in the public API at pandas.testing instead.\n",
            "  import pandas.util.testing as tm\n"
          ],
          "name": "stderr"
        }
      ]
    },
    {
      "cell_type": "code",
      "metadata": {
        "id": "Re9hwpBBw0pQ"
      },
      "source": [
        "#@title Define Functions\n",
        "        \n",
        "# Define autopercent function\n",
        "def autopercent(rects):\n",
        "  for rect in rects:\n",
        "        height = rect.get_height()\n",
        "        ax.annotate(\n",
        "            f'{height:,.1f}%',\n",
        "            xy=(rect.get_x() + rect.get_width() / 2, height),\n",
        "            ha='center',\n",
        "            va='bottom',\n",
        "            rotation=0,\n",
        "            color=\"black\",\n",
        "        )        \n",
        "\n",
        "# Define autocount function\n",
        "def autocount(rects):\n",
        "    \"\"\"Attach a text label above each bar in *rects*, displaying its height.\"\"\"\n",
        "    for rect in rects:\n",
        "        height = rect.get_height()\n",
        "        ax.annotate(\n",
        "            f'{height:,.2f}',\n",
        "            xy=(rect.get_x() + rect.get_width() / 2, height),\n",
        "            ha='center',\n",
        "            va='bottom',\n",
        "            rotation=0,\n",
        "            color=\"black\",\n",
        "        )        \n",
        "\n",
        "def percentagizer(ax):\n",
        "    ax.yaxis.set_major_formatter(ticker.PercentFormatter())\n",
        "    \n",
        "    \n",
        "def plot_legends(\n",
        "    axes: list,\n",
        "    **kwargs,\n",
        "):\n",
        "    \"\"\"Merge & plot all legends from axes in list onto 1 axis\n",
        "    Arguments:\n",
        "        axes {list} -- List of Matplotlib axes objects\n",
        "    Keyword Arguments:\n",
        "        **kwargs -- kwargs accepted by ax.legend()\n",
        "    \"\"\"\n",
        "    # extract handles and labels from axes\n",
        "    handles = list()\n",
        "    labels = list()\n",
        "    for _ax in axes:\n",
        "        h, l = _ax.get_legend_handles_labels()\n",
        "        [handles.append(i) for i in h]\n",
        "        [labels.append(j) for j in l]\n",
        "    # set default kwargs\n",
        "    default_kwargs = dict(\n",
        "        frameon=False,\n",
        "        loc=1,\n",
        "        ncol=4,\n",
        "    )\n",
        "    # **kwargs takes precedence, so drop from default if kwarg passed in\n",
        "    for kwarg in kwargs.keys():\n",
        "        default_kwargs.pop(kwarg, None)\n",
        "    # plot legend\n",
        "    axes[0].legend(\n",
        "        handles,\n",
        "        labels,\n",
        "        **default_kwargs,\n",
        "        **kwargs\n",
        "    )\n",
        "\n",
        "# Set plot formats\n",
        "plots.set_default_plot_format()\n",
        "plt.rc(\"font\", weight=\"regular\")\n"
      ],
      "execution_count": null,
      "outputs": []
    },
    {
      "cell_type": "code",
      "metadata": {
        "id": "FsUUItQ8QAIO"
      },
      "source": [
        "plots.set_default_plot_format()\n",
        "# plt.rc(\"xtick.minor\", width=0, size=0)\n",
        "# plt.rc(\"xtick.major\", width=0, size=0)\n",
        "# plt.rc(\"ytick.major\", width=0, size=0)\n",
        "plt.rc(\"font\", weight=\"regular\")\n",
        "plt.rc(\"axes\", labelweight=\"regular\")"
      ],
      "execution_count": null,
      "outputs": []
    },
    {
      "cell_type": "code",
      "metadata": {
        "id": "v1o-S6HVQFfG"
      },
      "source": [
        "# Using a custom plotting library to get plot colours\n",
        "colors = plots.get_plot_colors(jf_template=True)"
      ],
      "execution_count": null,
      "outputs": []
    },
    {
      "cell_type": "code",
      "metadata": {
        "id": "PSKWAsK4Z2o7"
      },
      "source": [
        "data = pd.read_csv('charity_data.csv')"
      ],
      "execution_count": null,
      "outputs": []
    },
    {
      "cell_type": "code",
      "metadata": {
        "id": "HFudsIVda3DD",
        "colab": {
          "base_uri": "https://localhost:8080/",
          "height": 87
        },
        "outputId": "974526f1-150f-43ae-c71f-ab1b361b8673"
      },
      "source": [
        "data.columns"
      ],
      "execution_count": null,
      "outputs": [
        {
          "output_type": "execute_result",
          "data": {
            "text/plain": [
              "Index(['id', 'school', 'grade', 'gender', 'ethnicity', 'lunch_status',\n",
              "       'english_proficiency', 'special_education', 'fasttalk_intervention',\n",
              "       'fall_assessment', 'spring_assessment'],\n",
              "      dtype='object')"
            ]
          },
          "metadata": {
            "tags": []
          },
          "execution_count": 10
        }
      ]
    },
    {
      "cell_type": "code",
      "metadata": {
        "id": "JupFmufqFB30"
      },
      "source": [
        "df = data.copy()"
      ],
      "execution_count": null,
      "outputs": []
    },
    {
      "cell_type": "code",
      "metadata": {
        "id": "ENF2AJUSaWUp"
      },
      "source": [
        "# Clean Data\n",
        "df.special_education = df.special_education.fillna(0)\n",
        "\n",
        "df.fasttalk_intervention = df.fasttalk_intervention.fillna(0)\n",
        "\n"
      ],
      "execution_count": null,
      "outputs": []
    },
    {
      "cell_type": "code",
      "metadata": {
        "id": "knCdCpEgdpfw"
      },
      "source": [
        "# Remove incomplete observations: 87 observations omitted\n",
        "df = df[~df.spring_assessment.isnull()]\n",
        "\n",
        "df = df[~df.fall_assessment.isnull()]"
      ],
      "execution_count": null,
      "outputs": []
    },
    {
      "cell_type": "code",
      "metadata": {
        "id": "2xlhMjD6eRYT"
      },
      "source": [
        "# Recode gender: 0 for M, 1 for F\n",
        "\n",
        "# Strip spaces\n",
        "df.gender = df.gender.str.strip()\n",
        "\n",
        "df.loc[df.gender=='F', 'gender'] = 1\n",
        "df.loc[df.gender=='M', 'gender'] = 0"
      ],
      "execution_count": null,
      "outputs": []
    },
    {
      "cell_type": "code",
      "metadata": {
        "id": "O_8CrSjknGOC"
      },
      "source": [
        "# Recode ethnicity: 0 for BA, 1 for HS\n",
        "df.loc[df.ethnicity=='BA', 'ethnicity'] = 0\n",
        "df.loc[df.ethnicity=='HS', 'ethnicity'] = 1"
      ],
      "execution_count": null,
      "outputs": []
    },
    {
      "cell_type": "code",
      "metadata": {
        "id": "zhl78EJidc4K"
      },
      "source": [
        "# Recode english proficiency: 0 for learner, 1 for proficient\n",
        "df.english_proficiency = np.where(df['english_proficiency'] == 2, 0, 1)"
      ],
      "execution_count": null,
      "outputs": []
    },
    {
      "cell_type": "code",
      "metadata": {
        "id": "avVc0upmqAh7"
      },
      "source": [
        "# Select assessment columns for ease later on\n",
        "assessments = ['fall_assessment', 'spring_assessment']"
      ],
      "execution_count": null,
      "outputs": []
    },
    {
      "cell_type": "markdown",
      "metadata": {
        "id": "YccWa7NJpFcu"
      },
      "source": [
        "# Descriptive Statistics\n",
        "\n",
        "\n",
        "---\n",
        "\n",
        "\n",
        "\n",
        "---\n",
        "\n",
        "\n",
        "\n",
        "---\n",
        "\n",
        "\n",
        "\n",
        "---\n",
        "\n"
      ]
    },
    {
      "cell_type": "code",
      "metadata": {
        "id": "5qyDl214pIUG"
      },
      "source": [
        "# compare assessment results\n",
        "full_comp = df.groupby(\"fasttalk_intervention\")[assessments].mean()\n",
        "full_comp.index = [\"No Intervention\", \"Intervention\"]\n",
        "\n",
        "# calculate difference\n",
        "full_comp[\"diff\"] = full_comp[\"spring_assessment\"] - full_comp[\"fall_assessment\"]"
      ],
      "execution_count": null,
      "outputs": []
    },
    {
      "cell_type": "code",
      "metadata": {
        "id": "SduptGkcqi_j",
        "colab": {
          "base_uri": "https://localhost:8080/",
          "height": 107
        },
        "outputId": "a6abd26c-16ec-4340-ad2f-43a9a9f9de16"
      },
      "source": [
        "full_comp.round(2)"
      ],
      "execution_count": null,
      "outputs": [
        {
          "output_type": "execute_result",
          "data": {
            "text/html": [
              "<div>\n",
              "<style scoped>\n",
              "    .dataframe tbody tr th:only-of-type {\n",
              "        vertical-align: middle;\n",
              "    }\n",
              "\n",
              "    .dataframe tbody tr th {\n",
              "        vertical-align: top;\n",
              "    }\n",
              "\n",
              "    .dataframe thead th {\n",
              "        text-align: right;\n",
              "    }\n",
              "</style>\n",
              "<table border=\"1\" class=\"dataframe\">\n",
              "  <thead>\n",
              "    <tr style=\"text-align: right;\">\n",
              "      <th></th>\n",
              "      <th>fall_assessment</th>\n",
              "      <th>spring_assessment</th>\n",
              "      <th>diff</th>\n",
              "    </tr>\n",
              "  </thead>\n",
              "  <tbody>\n",
              "    <tr>\n",
              "      <th>No Intervention</th>\n",
              "      <td>3.43</td>\n",
              "      <td>3.97</td>\n",
              "      <td>0.54</td>\n",
              "    </tr>\n",
              "    <tr>\n",
              "      <th>Intervention</th>\n",
              "      <td>3.13</td>\n",
              "      <td>4.55</td>\n",
              "      <td>1.42</td>\n",
              "    </tr>\n",
              "  </tbody>\n",
              "</table>\n",
              "</div>"
            ],
            "text/plain": [
              "                 fall_assessment  spring_assessment  diff\n",
              "No Intervention             3.43               3.97  0.54\n",
              "Intervention                3.13               4.55  1.42"
            ]
          },
          "metadata": {
            "tags": []
          },
          "execution_count": 19
        }
      ]
    },
    {
      "cell_type": "code",
      "metadata": {
        "id": "UwDDC48zq2Rq",
        "colab": {
          "base_uri": "https://localhost:8080/",
          "height": 890
        },
        "outputId": "480575fb-8665-43fc-8082-76263e076649"
      },
      "source": [
        "# plot data\n",
        "f, ax = plt.subplots(figsize=(16,14))\n",
        "\n",
        "full_comp[assessments].plot(\n",
        "    kind=\"bar\",\n",
        "    ax=ax,\n",
        "    color=[colors[\"blue\"][\"default\"], colors[\"cyan\"][\"default\"]],\n",
        "    zorder=1,\n",
        "    label=('Fall Assessment', 'Spring Assessment')\n",
        ")\n",
        "\n",
        "# remove spines\n",
        "[ax.spines[loc].set_visible(False) for loc in ['left', 'top', 'right']]\n",
        "\n",
        "# rotate x labels\n",
        "for tick in ax.get_xticklabels():\n",
        "    tick.set_rotation(0)\n",
        "\n",
        "# format legend\n",
        "ax.legend(frameon=False)\n",
        "\n",
        "# # plot gridlines\n",
        "ax.yaxis.grid()\n",
        "\n",
        "ax.set_title('Comparison of Assessment Scores By FASTalk Intervention Status', fontweight='semibold', pad=10)\n",
        "\n",
        "\n",
        "plt.savefig(\"/content/drive/My Drive/Data Team Charity Stuff/graphs/scores_by_intervention.png\")"
      ],
      "execution_count": null,
      "outputs": [
        {
          "output_type": "stream",
          "text": [
            "findfont: Font family ['Noto Sans'] not found. Falling back to DejaVu Sans.\n",
            "findfont: Font family ['Noto Sans'] not found. Falling back to DejaVu Sans.\n"
          ],
          "name": "stderr"
        },
        {
          "output_type": "display_data",
          "data": {
            "image/png": "[encoded data removed]",
            "text/plain": [
              "<Figure size 1152x1008 with 1 Axes>"
            ]
          },
          "metadata": {
            "tags": [],
            "needs_background": "light"
          }
        }
      ]
    },
    {
      "cell_type": "code",
      "metadata": {
        "id": "xNTcQCnPuj8p",
        "colab": {
          "base_uri": "https://localhost:8080/",
          "height": 167
        },
        "outputId": "238613ea-97d0-4250-c685-04aa2524cb43"
      },
      "source": [
        "# Check if one group has significantly more special needs students\n",
        "df.groupby(\"fasttalk_intervention\")[[\"special_education\"]].agg([\"sum\", \"count\"])\n"
      ],
      "execution_count": null,
      "outputs": [
        {
          "output_type": "execute_result",
          "data": {
            "text/html": [
              "<div>\n",
              "<style scoped>\n",
              "    .dataframe tbody tr th:only-of-type {\n",
              "        vertical-align: middle;\n",
              "    }\n",
              "\n",
              "    .dataframe tbody tr th {\n",
              "        vertical-align: top;\n",
              "    }\n",
              "\n",
              "    .dataframe thead tr th {\n",
              "        text-align: left;\n",
              "    }\n",
              "\n",
              "    .dataframe thead tr:last-of-type th {\n",
              "        text-align: right;\n",
              "    }\n",
              "</style>\n",
              "<table border=\"1\" class=\"dataframe\">\n",
              "  <thead>\n",
              "    <tr>\n",
              "      <th></th>\n",
              "      <th colspan=\"2\" halign=\"left\">special_education</th>\n",
              "    </tr>\n",
              "    <tr>\n",
              "      <th></th>\n",
              "      <th>sum</th>\n",
              "      <th>count</th>\n",
              "    </tr>\n",
              "    <tr>\n",
              "      <th>fasttalk_intervention</th>\n",
              "      <th></th>\n",
              "      <th></th>\n",
              "    </tr>\n",
              "  </thead>\n",
              "  <tbody>\n",
              "    <tr>\n",
              "      <th>0.0</th>\n",
              "      <td>14.0</td>\n",
              "      <td>145</td>\n",
              "    </tr>\n",
              "    <tr>\n",
              "      <th>1.0</th>\n",
              "      <td>8.0</td>\n",
              "      <td>69</td>\n",
              "    </tr>\n",
              "  </tbody>\n",
              "</table>\n",
              "</div>"
            ],
            "text/plain": [
              "                      special_education      \n",
              "                                    sum count\n",
              "fasttalk_intervention                        \n",
              "0.0                                14.0   145\n",
              "1.0                                 8.0    69"
            ]
          },
          "metadata": {
            "tags": []
          },
          "execution_count": 21
        }
      ]
    },
    {
      "cell_type": "code",
      "metadata": {
        "id": "3yVCyjXhvWeM",
        "colab": {
          "base_uri": "https://localhost:8080/",
          "height": 167
        },
        "outputId": "528c97ad-1937-4648-bbd6-732fe7c3f505"
      },
      "source": [
        "# Check if one group has significantly more students from low income background\n",
        "df.groupby(\"fasttalk_intervention\")[[\"lunch_status\"]].agg([\"sum\", \"count\"])"
      ],
      "execution_count": null,
      "outputs": [
        {
          "output_type": "execute_result",
          "data": {
            "text/html": [
              "<div>\n",
              "<style scoped>\n",
              "    .dataframe tbody tr th:only-of-type {\n",
              "        vertical-align: middle;\n",
              "    }\n",
              "\n",
              "    .dataframe tbody tr th {\n",
              "        vertical-align: top;\n",
              "    }\n",
              "\n",
              "    .dataframe thead tr th {\n",
              "        text-align: left;\n",
              "    }\n",
              "\n",
              "    .dataframe thead tr:last-of-type th {\n",
              "        text-align: right;\n",
              "    }\n",
              "</style>\n",
              "<table border=\"1\" class=\"dataframe\">\n",
              "  <thead>\n",
              "    <tr>\n",
              "      <th></th>\n",
              "      <th colspan=\"2\" halign=\"left\">lunch_status</th>\n",
              "    </tr>\n",
              "    <tr>\n",
              "      <th></th>\n",
              "      <th>sum</th>\n",
              "      <th>count</th>\n",
              "    </tr>\n",
              "    <tr>\n",
              "      <th>fasttalk_intervention</th>\n",
              "      <th></th>\n",
              "      <th></th>\n",
              "    </tr>\n",
              "  </thead>\n",
              "  <tbody>\n",
              "    <tr>\n",
              "      <th>0.0</th>\n",
              "      <td>137</td>\n",
              "      <td>145</td>\n",
              "    </tr>\n",
              "    <tr>\n",
              "      <th>1.0</th>\n",
              "      <td>60</td>\n",
              "      <td>69</td>\n",
              "    </tr>\n",
              "  </tbody>\n",
              "</table>\n",
              "</div>"
            ],
            "text/plain": [
              "                      lunch_status      \n",
              "                               sum count\n",
              "fasttalk_intervention                   \n",
              "0.0                            137   145\n",
              "1.0                             60    69"
            ]
          },
          "metadata": {
            "tags": []
          },
          "execution_count": 22
        }
      ]
    },
    {
      "cell_type": "code",
      "metadata": {
        "id": "c2Trs7LowCHX",
        "colab": {
          "base_uri": "https://localhost:8080/",
          "height": 197
        },
        "outputId": "8581b38a-d2df-4aba-c7bf-319e4085db8e"
      },
      "source": [
        "# Compare assessment results\n",
        "eng_comp = df.groupby([\"fasttalk_intervention\",\"english_proficiency\"])[assessments].mean()\n",
        "eng_comp.index.set_levels(levels=[\"no_intervention\", \"intervention\"], level=0, inplace=True)\n",
        "eng_comp.index.set_levels(levels=[\"proficient\", \"learner\"], level=1, inplace=True)\n",
        "\n",
        "eng_comp\n",
        "\n",
        "\n",
        "# Can ignore the 3 to 2 drop among proficient children who received intervention (only 1 data point)"
      ],
      "execution_count": null,
      "outputs": [
        {
          "output_type": "execute_result",
          "data": {
            "text/html": [
              "<div>\n",
              "<style scoped>\n",
              "    .dataframe tbody tr th:only-of-type {\n",
              "        vertical-align: middle;\n",
              "    }\n",
              "\n",
              "    .dataframe tbody tr th {\n",
              "        vertical-align: top;\n",
              "    }\n",
              "\n",
              "    .dataframe thead th {\n",
              "        text-align: right;\n",
              "    }\n",
              "</style>\n",
              "<table border=\"1\" class=\"dataframe\">\n",
              "  <thead>\n",
              "    <tr style=\"text-align: right;\">\n",
              "      <th></th>\n",
              "      <th></th>\n",
              "      <th>fall_assessment</th>\n",
              "      <th>spring_assessment</th>\n",
              "    </tr>\n",
              "    <tr>\n",
              "      <th>fasttalk_intervention</th>\n",
              "      <th>english_proficiency</th>\n",
              "      <th></th>\n",
              "      <th></th>\n",
              "    </tr>\n",
              "  </thead>\n",
              "  <tbody>\n",
              "    <tr>\n",
              "      <th rowspan=\"2\" valign=\"top\">no_intervention</th>\n",
              "      <th>proficient</th>\n",
              "      <td>3.666667</td>\n",
              "      <td>3.333333</td>\n",
              "    </tr>\n",
              "    <tr>\n",
              "      <th>learner</th>\n",
              "      <td>3.422535</td>\n",
              "      <td>3.985915</td>\n",
              "    </tr>\n",
              "    <tr>\n",
              "      <th rowspan=\"2\" valign=\"top\">intervention</th>\n",
              "      <th>proficient</th>\n",
              "      <td>3.000000</td>\n",
              "      <td>2.000000</td>\n",
              "    </tr>\n",
              "    <tr>\n",
              "      <th>learner</th>\n",
              "      <td>3.132353</td>\n",
              "      <td>4.588235</td>\n",
              "    </tr>\n",
              "  </tbody>\n",
              "</table>\n",
              "</div>"
            ],
            "text/plain": [
              "                                           fall_assessment  spring_assessment\n",
              "fasttalk_intervention english_proficiency                                    \n",
              "no_intervention       proficient                  3.666667           3.333333\n",
              "                      learner                     3.422535           3.985915\n",
              "intervention          proficient                  3.000000           2.000000\n",
              "                      learner                     3.132353           4.588235"
            ]
          },
          "metadata": {
            "tags": []
          },
          "execution_count": 23
        }
      ]
    },
    {
      "cell_type": "code",
      "metadata": {
        "id": "YGuqLC7fwc2a",
        "colab": {
          "base_uri": "https://localhost:8080/",
          "height": 227
        },
        "outputId": "196eeb68-0bf7-4036-ce4c-32bcbe1da77e"
      },
      "source": [
        "# Probably not worth looking at the english proficiency as there are so few learner students\n",
        "df.groupby([\"fasttalk_intervention\",\"english_proficiency\"])[[\"lunch_status\"]].agg([\"sum\", \"count\"])"
      ],
      "execution_count": null,
      "outputs": [
        {
          "output_type": "execute_result",
          "data": {
            "text/html": [
              "<div>\n",
              "<style scoped>\n",
              "    .dataframe tbody tr th:only-of-type {\n",
              "        vertical-align: middle;\n",
              "    }\n",
              "\n",
              "    .dataframe tbody tr th {\n",
              "        vertical-align: top;\n",
              "    }\n",
              "\n",
              "    .dataframe thead tr th {\n",
              "        text-align: left;\n",
              "    }\n",
              "\n",
              "    .dataframe thead tr:last-of-type th {\n",
              "        text-align: right;\n",
              "    }\n",
              "</style>\n",
              "<table border=\"1\" class=\"dataframe\">\n",
              "  <thead>\n",
              "    <tr>\n",
              "      <th></th>\n",
              "      <th></th>\n",
              "      <th colspan=\"2\" halign=\"left\">lunch_status</th>\n",
              "    </tr>\n",
              "    <tr>\n",
              "      <th></th>\n",
              "      <th></th>\n",
              "      <th>sum</th>\n",
              "      <th>count</th>\n",
              "    </tr>\n",
              "    <tr>\n",
              "      <th>fasttalk_intervention</th>\n",
              "      <th>english_proficiency</th>\n",
              "      <th></th>\n",
              "      <th></th>\n",
              "    </tr>\n",
              "  </thead>\n",
              "  <tbody>\n",
              "    <tr>\n",
              "      <th rowspan=\"2\" valign=\"top\">0.0</th>\n",
              "      <th>0</th>\n",
              "      <td>2</td>\n",
              "      <td>3</td>\n",
              "    </tr>\n",
              "    <tr>\n",
              "      <th>1</th>\n",
              "      <td>135</td>\n",
              "      <td>142</td>\n",
              "    </tr>\n",
              "    <tr>\n",
              "      <th rowspan=\"2\" valign=\"top\">1.0</th>\n",
              "      <th>0</th>\n",
              "      <td>0</td>\n",
              "      <td>1</td>\n",
              "    </tr>\n",
              "    <tr>\n",
              "      <th>1</th>\n",
              "      <td>60</td>\n",
              "      <td>68</td>\n",
              "    </tr>\n",
              "  </tbody>\n",
              "</table>\n",
              "</div>"
            ],
            "text/plain": [
              "                                          lunch_status      \n",
              "                                                   sum count\n",
              "fasttalk_intervention english_proficiency                   \n",
              "0.0                   0                              2     3\n",
              "                      1                            135   142\n",
              "1.0                   0                              0     1\n",
              "                      1                             60    68"
            ]
          },
          "metadata": {
            "tags": []
          },
          "execution_count": 24
        }
      ]
    },
    {
      "cell_type": "code",
      "metadata": {
        "id": "Pfq_bYkVwffZ",
        "colab": {
          "base_uri": "https://localhost:8080/",
          "height": 167
        },
        "outputId": "0a1499e7-8728-4b14-fa32-edae21a6941d"
      },
      "source": [
        "# All english learners are also hispanic\n",
        "df[df[\"english_proficiency\"] == 0]"
      ],
      "execution_count": null,
      "outputs": [
        {
          "output_type": "execute_result",
          "data": {
            "text/html": [
              "<div>\n",
              "<style scoped>\n",
              "    .dataframe tbody tr th:only-of-type {\n",
              "        vertical-align: middle;\n",
              "    }\n",
              "\n",
              "    .dataframe tbody tr th {\n",
              "        vertical-align: top;\n",
              "    }\n",
              "\n",
              "    .dataframe thead th {\n",
              "        text-align: right;\n",
              "    }\n",
              "</style>\n",
              "<table border=\"1\" class=\"dataframe\">\n",
              "  <thead>\n",
              "    <tr style=\"text-align: right;\">\n",
              "      <th></th>\n",
              "      <th>id</th>\n",
              "      <th>school</th>\n",
              "      <th>grade</th>\n",
              "      <th>gender</th>\n",
              "      <th>ethnicity</th>\n",
              "      <th>lunch_status</th>\n",
              "      <th>english_proficiency</th>\n",
              "      <th>special_education</th>\n",
              "      <th>fasttalk_intervention</th>\n",
              "      <th>fall_assessment</th>\n",
              "      <th>spring_assessment</th>\n",
              "    </tr>\n",
              "  </thead>\n",
              "  <tbody>\n",
              "    <tr>\n",
              "      <th>3</th>\n",
              "      <td>4</td>\n",
              "      <td>A</td>\n",
              "      <td>3</td>\n",
              "      <td>1</td>\n",
              "      <td>1</td>\n",
              "      <td>0</td>\n",
              "      <td>0</td>\n",
              "      <td>0.0</td>\n",
              "      <td>0.0</td>\n",
              "      <td>6.0</td>\n",
              "      <td>5.0</td>\n",
              "    </tr>\n",
              "    <tr>\n",
              "      <th>62</th>\n",
              "      <td>63</td>\n",
              "      <td>A</td>\n",
              "      <td>4</td>\n",
              "      <td>0</td>\n",
              "      <td>1</td>\n",
              "      <td>1</td>\n",
              "      <td>0</td>\n",
              "      <td>0.0</td>\n",
              "      <td>0.0</td>\n",
              "      <td>1.0</td>\n",
              "      <td>4.0</td>\n",
              "    </tr>\n",
              "    <tr>\n",
              "      <th>117</th>\n",
              "      <td>118</td>\n",
              "      <td>A</td>\n",
              "      <td>5</td>\n",
              "      <td>1</td>\n",
              "      <td>1</td>\n",
              "      <td>0</td>\n",
              "      <td>0</td>\n",
              "      <td>0.0</td>\n",
              "      <td>1.0</td>\n",
              "      <td>3.0</td>\n",
              "      <td>2.0</td>\n",
              "    </tr>\n",
              "    <tr>\n",
              "      <th>133</th>\n",
              "      <td>134</td>\n",
              "      <td>A</td>\n",
              "      <td>5</td>\n",
              "      <td>1</td>\n",
              "      <td>1</td>\n",
              "      <td>1</td>\n",
              "      <td>0</td>\n",
              "      <td>0.0</td>\n",
              "      <td>0.0</td>\n",
              "      <td>4.0</td>\n",
              "      <td>1.0</td>\n",
              "    </tr>\n",
              "  </tbody>\n",
              "</table>\n",
              "</div>"
            ],
            "text/plain": [
              "      id school  ...  fall_assessment spring_assessment\n",
              "3      4      A  ...              6.0               5.0\n",
              "62    63      A  ...              1.0               4.0\n",
              "117  118      A  ...              3.0               2.0\n",
              "133  134      A  ...              4.0               1.0\n",
              "\n",
              "[4 rows x 11 columns]"
            ]
          },
          "metadata": {
            "tags": []
          },
          "execution_count": 25
        }
      ]
    },
    {
      "cell_type": "code",
      "metadata": {
        "id": "fUCBRgKLw6R0",
        "colab": {
          "base_uri": "https://localhost:8080/",
          "height": 197
        },
        "outputId": "e1c22152-5777-4fe7-bda5-5f30e670810e"
      },
      "source": [
        "# Compare assessment results by gender\n",
        "sex_comp = df.groupby([\"fasttalk_intervention\",\"gender\"])[assessments].mean()\n",
        "sex_comp.index.set_levels(levels=[\"No Intervention\", \"Intervention\"], level=0, inplace=True)\n",
        "sex_comp.index.set_levels(levels=[\"Male\", \"Female\"], level=1, inplace=True)\n",
        "\n",
        "sex_comp.round(2)"
      ],
      "execution_count": null,
      "outputs": [
        {
          "output_type": "execute_result",
          "data": {
            "text/html": [
              "<div>\n",
              "<style scoped>\n",
              "    .dataframe tbody tr th:only-of-type {\n",
              "        vertical-align: middle;\n",
              "    }\n",
              "\n",
              "    .dataframe tbody tr th {\n",
              "        vertical-align: top;\n",
              "    }\n",
              "\n",
              "    .dataframe thead th {\n",
              "        text-align: right;\n",
              "    }\n",
              "</style>\n",
              "<table border=\"1\" class=\"dataframe\">\n",
              "  <thead>\n",
              "    <tr style=\"text-align: right;\">\n",
              "      <th></th>\n",
              "      <th></th>\n",
              "      <th>fall_assessment</th>\n",
              "      <th>spring_assessment</th>\n",
              "    </tr>\n",
              "    <tr>\n",
              "      <th>fasttalk_intervention</th>\n",
              "      <th>gender</th>\n",
              "      <th></th>\n",
              "      <th></th>\n",
              "    </tr>\n",
              "  </thead>\n",
              "  <tbody>\n",
              "    <tr>\n",
              "      <th rowspan=\"2\" valign=\"top\">No Intervention</th>\n",
              "      <th>Male</th>\n",
              "      <td>3.31</td>\n",
              "      <td>3.71</td>\n",
              "    </tr>\n",
              "    <tr>\n",
              "      <th>Female</th>\n",
              "      <td>3.56</td>\n",
              "      <td>4.26</td>\n",
              "    </tr>\n",
              "    <tr>\n",
              "      <th rowspan=\"2\" valign=\"top\">Intervention</th>\n",
              "      <th>Male</th>\n",
              "      <td>2.94</td>\n",
              "      <td>4.45</td>\n",
              "    </tr>\n",
              "    <tr>\n",
              "      <th>Female</th>\n",
              "      <td>3.31</td>\n",
              "      <td>4.64</td>\n",
              "    </tr>\n",
              "  </tbody>\n",
              "</table>\n",
              "</div>"
            ],
            "text/plain": [
              "                              fall_assessment  spring_assessment\n",
              "fasttalk_intervention gender                                    \n",
              "No Intervention       Male               3.31               3.71\n",
              "                      Female             3.56               4.26\n",
              "Intervention          Male               2.94               4.45\n",
              "                      Female             3.31               4.64"
            ]
          },
          "metadata": {
            "tags": []
          },
          "execution_count": 26
        }
      ]
    },
    {
      "cell_type": "code",
      "metadata": {
        "id": "cDw9ka2sxGPE",
        "colab": {
          "base_uri": "https://localhost:8080/",
          "height": 1000
        },
        "outputId": "924060b5-7397-4753-f025-bb5e6b68873a"
      },
      "source": [
        "# Plot data\n",
        "f, ax = plt.subplots(1,1, figsize=(20,15))\n",
        "\n",
        "sex_comp[assessments].plot(\n",
        "    kind=\"bar\",\n",
        "    ax=ax,\n",
        "    color=[colors[\"blue\"][\"default\"], colors[\"cyan\"][\"default\"]],\n",
        "    zorder=1\n",
        ")\n",
        "\n",
        "# remove spines\n",
        "[ax.spines[loc].set_visible(False) for loc in [\"top\", \"left\", \"right\"]]\n",
        "\n",
        "# rotate x labels\n",
        "for tick in ax.get_xticklabels():\n",
        "    tick.set_rotation(45)\n",
        "\n",
        "# format legend\n",
        "ax.legend(frameon=False, ncol=2)\n",
        "\n",
        "# plot gridlines\n",
        "ax.yaxis.grid()\n",
        "\n",
        "ax.set_title('Comparison of Assessment Scores By Gender and Intervention Status', fontweight='semibold', pad=10)\n",
        "\n",
        "plt.tight_layout()\n",
        "\n",
        "plt.savefig(\"/content/drive/My Drive/Data Team Charity Stuff/graphs/scores_by_gender_and_intervention.png\")"
      ],
      "execution_count": null,
      "outputs": [
        {
          "output_type": "stream",
          "text": [
            "findfont: Font family ['Noto Sans'] not found. Falling back to DejaVu Sans.\n"
          ],
          "name": "stderr"
        },
        {
          "output_type": "display_data",
          "data": {
            "image/png": "[encoded data removed]",
            "text/plain": [
              "<Figure size 1440x1080 with 1 Axes>"
            ]
          },
          "metadata": {
            "tags": [],
            "needs_background": "light"
          }
        }
      ]
    },
    {
      "cell_type": "code",
      "metadata": {
        "id": "hrN3u0k3wd6-",
        "colab": {
          "base_uri": "https://localhost:8080/",
          "height": 197
        },
        "outputId": "9b18d1e5-517c-44cf-e5c8-9eadf6a325b6"
      },
      "source": [
        "sen_comp = df.groupby(['special_education', 'fasttalk_intervention'])[assessments].mean()\n",
        "\n",
        "sen_comp.index.set_levels(levels=['No SEN', 'SEN'], level=0, inplace=True)\n",
        "sen_comp.index.set_levels(levels=['No Intervention', 'Intervention'], level=1, inplace=True)\n",
        "\n",
        "sen_comp"
      ],
      "execution_count": null,
      "outputs": [
        {
          "output_type": "execute_result",
          "data": {
            "text/html": [
              "<div>\n",
              "<style scoped>\n",
              "    .dataframe tbody tr th:only-of-type {\n",
              "        vertical-align: middle;\n",
              "    }\n",
              "\n",
              "    .dataframe tbody tr th {\n",
              "        vertical-align: top;\n",
              "    }\n",
              "\n",
              "    .dataframe thead th {\n",
              "        text-align: right;\n",
              "    }\n",
              "</style>\n",
              "<table border=\"1\" class=\"dataframe\">\n",
              "  <thead>\n",
              "    <tr style=\"text-align: right;\">\n",
              "      <th></th>\n",
              "      <th></th>\n",
              "      <th>fall_assessment</th>\n",
              "      <th>spring_assessment</th>\n",
              "    </tr>\n",
              "    <tr>\n",
              "      <th>special_education</th>\n",
              "      <th>fasttalk_intervention</th>\n",
              "      <th></th>\n",
              "      <th></th>\n",
              "    </tr>\n",
              "  </thead>\n",
              "  <tbody>\n",
              "    <tr>\n",
              "      <th rowspan=\"2\" valign=\"top\">No SEN</th>\n",
              "      <th>No Intervention</th>\n",
              "      <td>3.473282</td>\n",
              "      <td>4.160305</td>\n",
              "    </tr>\n",
              "    <tr>\n",
              "      <th>Intervention</th>\n",
              "      <td>3.213115</td>\n",
              "      <td>4.688525</td>\n",
              "    </tr>\n",
              "    <tr>\n",
              "      <th rowspan=\"2\" valign=\"top\">SEN</th>\n",
              "      <th>No Intervention</th>\n",
              "      <td>3.000000</td>\n",
              "      <td>2.214286</td>\n",
              "    </tr>\n",
              "    <tr>\n",
              "      <th>Intervention</th>\n",
              "      <td>2.500000</td>\n",
              "      <td>3.500000</td>\n",
              "    </tr>\n",
              "  </tbody>\n",
              "</table>\n",
              "</div>"
            ],
            "text/plain": [
              "                                         fall_assessment  spring_assessment\n",
              "special_education fasttalk_intervention                                    \n",
              "No SEN            No Intervention               3.473282           4.160305\n",
              "                  Intervention                  3.213115           4.688525\n",
              "SEN               No Intervention               3.000000           2.214286\n",
              "                  Intervention                  2.500000           3.500000"
            ]
          },
          "metadata": {
            "tags": []
          },
          "execution_count": 70
        }
      ]
    },
    {
      "cell_type": "code",
      "metadata": {
        "id": "OEI-H_hXxuxQ",
        "colab": {
          "base_uri": "https://localhost:8080/",
          "height": 1000
        },
        "outputId": "7024e717-9024-4c09-e7be-da2856b375c3"
      },
      "source": [
        "# Plot data\n",
        "f, ax = plt.subplots(1,1, figsize=(20,15))\n",
        "\n",
        "sen_comp.plot(\n",
        "    kind=\"bar\",\n",
        "    ax=ax,\n",
        "    color=[colors[\"blue\"][\"default\"], colors[\"cyan\"][\"default\"]],\n",
        "    zorder=1\n",
        ")\n",
        "\n",
        "# remove spines\n",
        "[ax.spines[loc].set_visible(False) for loc in [\"top\", \"left\", \"right\"]]\n",
        "\n",
        "# rotate x labels\n",
        "for tick in ax.get_xticklabels():\n",
        "    tick.set_rotation(45)\n",
        "\n",
        "# # format legend\n",
        "# ax.legend(frameon=False, ncol=2)\n",
        "\n",
        "# plot gridlines\n",
        "ax.yaxis.grid()\n",
        "\n",
        "ax.set_title('Comparison of Assessment Scores By SEN and Intervention Status', fontweight='semibold', pad=10)\n",
        "\n",
        "plt.tight_layout()\n",
        "\n",
        "plt.savefig(\"/content/drive/My Drive/Data Team Charity Stuff/graphs/scores_by_sen_and_intervention.png\")"
      ],
      "execution_count": null,
      "outputs": [
        {
          "output_type": "display_data",
          "data": {
            "image/png": "[encoded data removed]",
            "text/plain": [
              "<Figure size 1440x1080 with 1 Axes>"
            ]
          },
          "metadata": {
            "tags": [],
            "needs_background": "light"
          }
        }
      ]
    },
    {
      "cell_type": "markdown",
      "metadata": {
        "id": "J76aBRGnpI3C"
      },
      "source": [
        "# Inferential Statistics\n",
        "\n",
        "---\n",
        "\n",
        "\n",
        "\n",
        "---\n",
        "\n",
        "\n",
        "\n",
        "---\n",
        "\n",
        "\n",
        "\n",
        "---\n",
        "\n"
      ]
    },
    {
      "cell_type": "code",
      "metadata": {
        "id": "OtFb5xpbpLQG"
      },
      "source": [
        "# Base Model: Only looks at FASTalk intervention and assessment scores?"
      ],
      "execution_count": null,
      "outputs": []
    },
    {
      "cell_type": "code",
      "metadata": {
        "id": "ABUVnjkGHVxI"
      },
      "source": [
        "# 1st Model: Adds in lunch status"
      ],
      "execution_count": null,
      "outputs": []
    },
    {
      "cell_type": "code",
      "metadata": {
        "id": "lh0IydgRHW1o"
      },
      "source": [
        "# 2nd Model: Adds in all relevant controls"
      ],
      "execution_count": null,
      "outputs": []
    },
    {
      "cell_type": "code",
      "metadata": {
        "id": "wi6NEerypBmP"
      },
      "source": [
        "regression_variables = ['gender', 'lunch_status',\n",
        "       'english_proficiency', 'special_education', 'spring_assessment']"
      ],
      "execution_count": null,
      "outputs": []
    },
    {
      "cell_type": "code",
      "metadata": {
        "id": "8qbd_Dndo3Hk"
      },
      "source": [
        "y = df.fasttalk_intervention.values\n",
        "\n",
        "x = df[['spring_assessment', 'lunch_status']].values"
      ],
      "execution_count": null,
      "outputs": []
    },
    {
      "cell_type": "code",
      "metadata": {
        "id": "0LFxlKjRmhIc"
      },
      "source": [
        "# import statsmodels.api as sm\n",
        "# logit_model=sm.Logit(X,y)\n",
        "# result=logit_model.fit()\n",
        "# print(result.summary2())"
      ],
      "execution_count": null,
      "outputs": []
    },
    {
      "cell_type": "code",
      "metadata": {
        "id": "rAdfu8hnC62J",
        "cellView": "form"
      },
      "source": [
        "#@title Model Attempt 1: Logistic Regression\n"
      ],
      "execution_count": null,
      "outputs": []
    },
    {
      "cell_type": "code",
      "metadata": {
        "id": "7nsqEec8u375",
        "colab": {
          "base_uri": "https://localhost:8080/",
          "height": 194
        },
        "outputId": "41337548-802c-4172-a23d-65845b70ecae"
      },
      "source": [
        "from sklearn.model_selection import train_test_split\n",
        "\n",
        "xtrain, xtest, ytrain, ytest = train_test_split(x, y, test_size = 0.25, random_state = 0) \n",
        "\n",
        "from sklearn.preprocessing import StandardScaler \n",
        "sc_x = StandardScaler() \n",
        "xtrain = sc_x.fit_transform(xtrain) \n",
        "xtest = sc_x.transform(xtest) \n",
        "\n",
        "print (xtrain[0:10, :]) \n"
      ],
      "execution_count": null,
      "outputs": [
        {
          "output_type": "stream",
          "text": [
            "[[-0.06119901  0.27170849]\n",
            " [-1.0403831   0.27170849]\n",
            " [-0.06119901  0.27170849]\n",
            " [ 0.91798509  0.27170849]\n",
            " [-1.0403831   0.27170849]\n",
            " [ 0.42839304  0.27170849]\n",
            " [ 0.91798509  0.27170849]\n",
            " [ 0.91798509  0.27170849]\n",
            " [-0.06119901  0.27170849]\n",
            " [-0.06119901  0.27170849]]\n"
          ],
          "name": "stdout"
        }
      ]
    },
    {
      "cell_type": "code",
      "metadata": {
        "id": "e7_hixwT3yVr",
        "colab": {
          "base_uri": "https://localhost:8080/",
          "height": 105
        },
        "outputId": "5222cfcb-6c50-455a-9f8a-638695c14309"
      },
      "source": [
        "from sklearn.linear_model import LogisticRegression \n",
        "classifier = LogisticRegression(random_state = 0) \n",
        "classifier.fit(xtrain, ytrain) \n"
      ],
      "execution_count": null,
      "outputs": [
        {
          "output_type": "execute_result",
          "data": {
            "text/plain": [
              "LogisticRegression(C=1.0, class_weight=None, dual=False, fit_intercept=True,\n",
              "                   intercept_scaling=1, l1_ratio=None, max_iter=100,\n",
              "                   multi_class='auto', n_jobs=None, penalty='l2',\n",
              "                   random_state=0, solver='lbfgs', tol=0.0001, verbose=0,\n",
              "                   warm_start=False)"
            ]
          },
          "metadata": {
            "tags": []
          },
          "execution_count": 37
        }
      ]
    },
    {
      "cell_type": "code",
      "metadata": {
        "id": "AiAaHLH64ETm",
        "colab": {
          "base_uri": "https://localhost:8080/",
          "height": 70
        },
        "outputId": "950dc009-42db-4a10-914f-1472980477e5"
      },
      "source": [
        "y_pred = classifier.predict(xtest) \n",
        "\n",
        "from sklearn.metrics import confusion_matrix \n",
        "cm = confusion_matrix(ytest, y_pred) \n",
        "  \n",
        "print (\"Confusion Matrix : \\n\", cm) "
      ],
      "execution_count": null,
      "outputs": [
        {
          "output_type": "stream",
          "text": [
            "Confusion Matrix : \n",
            " [[34  2]\n",
            " [16  2]]\n"
          ],
          "name": "stdout"
        }
      ]
    },
    {
      "cell_type": "code",
      "metadata": {
        "id": "d4zCzUq-4Ldq",
        "colab": {
          "base_uri": "https://localhost:8080/",
          "height": 34
        },
        "outputId": "aa381016-54f7-46de-cf9d-f267a7666d33"
      },
      "source": [
        "from sklearn.metrics import accuracy_score \n",
        "print (\"Accuracy : \", accuracy_score(ytest, y_pred)) \n"
      ],
      "execution_count": null,
      "outputs": [
        {
          "output_type": "stream",
          "text": [
            "Accuracy :  0.6666666666666666\n"
          ],
          "name": "stdout"
        }
      ]
    },
    {
      "cell_type": "code",
      "metadata": {
        "id": "SlH-20N04PK-",
        "colab": {
          "base_uri": "https://localhost:8080/",
          "height": 847
        },
        "cellView": "form",
        "outputId": "70f6f0dc-85fd-4783-8be2-504d5ef883f3"
      },
      "source": [
        "#@title Model Accuracy\n",
        "\n",
        "from matplotlib.colors import ListedColormap \n",
        "\n",
        "fig, ax = plt.subplots(figsize=(16,12))\n",
        "X_set, y_set = xtest, ytest \n",
        "X1, X2 = np.meshgrid(np.arange(start = X_set[:, 0].min() - 1, \n",
        "\t\t\t\t\t\t\tstop = X_set[:, 0].max() + 1, step = 0.01), \n",
        "\t\t\t\t\tnp.arange(start = X_set[:, 1].min() - 1, \n",
        "\t\t\t\t\t\t\tstop = X_set[:, 1].max() + 1, step = 0.01)) \n",
        "\n",
        "plt.contourf(X1, X2, classifier.predict( \n",
        "\t\t\tnp.array([X1.ravel(), X2.ravel()]).T).reshape( \n",
        "\t\t\tX1.shape), alpha = 0.75, cmap = ListedColormap(('red', 'green'))) \n",
        "\n",
        "plt.xlim(X1.min(), X1.max()) \n",
        "plt.ylim(X2.min(), X2.max()) \n",
        "\n",
        "for i, j in enumerate(np.unique(y_set)): \n",
        "\tplt.scatter(X_set[y_set == j, 0], X_set[y_set == j, 1], \n",
        "\t\t\t\tc = ListedColormap(('red', 'green'))(i), label = j) \n",
        "\t\n",
        "plt.title('Classifier (Test set)') \n",
        "plt.xlabel('Spring Assessment') \n",
        "plt.ylabel('FASTalk Intervention') \n",
        "plt.legend() \n",
        "plt.show() \n"
      ],
      "execution_count": null,
      "outputs": [
        {
          "output_type": "stream",
          "text": [
            "'c' argument looks like a single numeric RGB or RGBA sequence, which should be avoided as value-mapping will have precedence in case its length matches with 'x' & 'y'.  Please use a 2-D array with a single row if you really want to specify the same RGB or RGBA value for all points.\n",
            "'c' argument looks like a single numeric RGB or RGBA sequence, which should be avoided as value-mapping will have precedence in case its length matches with 'x' & 'y'.  Please use a 2-D array with a single row if you really want to specify the same RGB or RGBA value for all points.\n",
            "findfont: Font family ['Noto Sans'] not found. Falling back to DejaVu Sans.\n"
          ],
          "name": "stderr"
        },
        {
          "output_type": "display_data",
          "data": {
            "image/png": "[encoded data removed]",
            "text/plain": [
              "<Figure size 1152x864 with 1 Axes>"
            ]
          },
          "metadata": {
            "tags": [],
            "needs_background": "light"
          }
        }
      ]
    },
    {
      "cell_type": "code",
      "metadata": {
        "id": "YXdRTsFz4beL",
        "cellView": "form"
      },
      "source": [
        "#@title Model Attempt 2: Multiple Linear Regression"
      ],
      "execution_count": null,
      "outputs": []
    },
    {
      "cell_type": "code",
      "metadata": {
        "id": "ah4_jDoXvGSN",
        "colab": {
          "base_uri": "https://localhost:8080/",
          "height": 87
        },
        "outputId": "8d078f5e-f36d-4e03-fe40-1197c93c94e4"
      },
      "source": [
        "df.columns"
      ],
      "execution_count": null,
      "outputs": [
        {
          "output_type": "execute_result",
          "data": {
            "text/plain": [
              "Index(['id', 'school', 'grade', 'gender', 'ethnicity', 'lunch_status',\n",
              "       'english_proficiency', 'special_education', 'fasttalk_intervention',\n",
              "       'fall_assessment', 'spring_assessment'],\n",
              "      dtype='object')"
            ]
          },
          "metadata": {
            "tags": []
          },
          "execution_count": 50
        }
      ]
    },
    {
      "cell_type": "code",
      "metadata": {
        "id": "1I1H-MZwEJ_k"
      },
      "source": [
        "regression_variables = [\n",
        "                        'gender',\n",
        "                        #'lunch_status',\n",
        "                        #turned out not to be signficant\n",
        "                        'english_proficiency',\n",
        "                        #'special_education',\n",
        "                        'fasttalk_intervention']\n",
        "\n",
        "df.gender = df.gender.astype('int')"
      ],
      "execution_count": null,
      "outputs": []
    },
    {
      "cell_type": "code",
      "metadata": {
        "id": "aBtB-uaNuKgo"
      },
      "source": [
        "sen = df[df.special_education == 1]\n",
        "no_sen = df[df.special_education == 0]"
      ],
      "execution_count": null,
      "outputs": []
    },
    {
      "cell_type": "code",
      "metadata": {
        "id": "vpw6l54LDSFH",
        "colab": {
          "base_uri": "https://localhost:8080/",
          "height": 514
        },
        "outputId": "0964e908-5357-4e46-e4fe-02e1994385a1"
      },
      "source": [
        "# SM OLS\n",
        "X = df[regression_variables]\n",
        "y = df['spring_assessment']\n",
        "\n",
        "X2 = sm.add_constant(X)\n",
        "est = sm.OLS(y, X2)\n",
        "est2 = est.fit()\n",
        "print(est2.summary())\n"
      ],
      "execution_count": null,
      "outputs": [
        {
          "output_type": "stream",
          "text": [
            "                            OLS Regression Results                            \n",
            "==============================================================================\n",
            "Dep. Variable:      spring_assessment   R-squared:                       0.092\n",
            "Model:                            OLS   Adj. R-squared:                  0.074\n",
            "Method:                 Least Squares   F-statistic:                     5.267\n",
            "Date:                Tue, 02 Jun 2020   Prob (F-statistic):           0.000463\n",
            "Time:                        20:30:46   Log-Likelihood:                -447.38\n",
            "No. Observations:                 214   AIC:                             904.8\n",
            "Df Residuals:                     209   BIC:                             921.6\n",
            "Df Model:                           4                                         \n",
            "Covariance Type:            nonrobust                                         \n",
            "=========================================================================================\n",
            "                            coef    std err          t      P>|t|      [0.025      0.975]\n",
            "-----------------------------------------------------------------------------------------\n",
            "const                     2.6208      1.014      2.586      0.010       0.623       4.619\n",
            "gender                    0.3092      0.275      1.125      0.262      -0.232       0.851\n",
            "english_proficiency       1.3880      1.003      1.384      0.168      -0.590       3.366\n",
            "special_education        -1.6256      0.452     -3.600      0.000      -2.516      -0.735\n",
            "fasttalk_intervention     0.5892      0.290      2.031      0.044       0.017       1.161\n",
            "==============================================================================\n",
            "Omnibus:                        6.046   Durbin-Watson:                   1.617\n",
            "Prob(Omnibus):                  0.049   Jarque-Bera (JB):                4.921\n",
            "Skew:                           0.274   Prob(JB):                       0.0854\n",
            "Kurtosis:                       2.499   Cond. No.                         16.1\n",
            "==============================================================================\n",
            "\n",
            "Warnings:\n",
            "[1] Standard Errors assume that the covariance matrix of the errors is correctly specified.\n"
          ],
          "name": "stdout"
        }
      ]
    },
    {
      "cell_type": "code",
      "metadata": {
        "id": "Q3J9VYo1uzSy",
        "colab": {
          "base_uri": "https://localhost:8080/",
          "height": 478
        },
        "outputId": "ed74842d-7177-43e9-d64d-1ec6480ce4b8"
      },
      "source": [
        "# SEN SM OLS\n",
        "\n",
        "X = sen[regression_variables]\n",
        "y = sen['spring_assessment']\n",
        "\n",
        "X2 = sm.add_constant(X)\n",
        "est = sm.OLS(y, X2)\n",
        "est2 = est.fit()\n",
        "print(est2.summary())\n"
      ],
      "execution_count": null,
      "outputs": [
        {
          "output_type": "stream",
          "text": [
            "                            OLS Regression Results                            \n",
            "==============================================================================\n",
            "Dep. Variable:      spring_assessment   R-squared:                       0.130\n",
            "Model:                            OLS   Adj. R-squared:                  0.038\n",
            "Method:                 Least Squares   F-statistic:                     1.419\n",
            "Date:                Tue, 02 Jun 2020   Prob (F-statistic):              0.267\n",
            "Time:                        20:31:42   Log-Likelihood:                -45.031\n",
            "No. Observations:                  22   AIC:                             96.06\n",
            "Df Residuals:                      19   BIC:                             99.34\n",
            "Df Model:                           2                                         \n",
            "Covariance Type:            nonrobust                                         \n",
            "=========================================================================================\n",
            "                            coef    std err          t      P>|t|      [0.025      0.975]\n",
            "-----------------------------------------------------------------------------------------\n",
            "gender                   -0.8734      0.997     -0.876      0.392      -2.960       1.213\n",
            "english_proficiency       2.5262      0.646      3.911      0.001       1.174       3.878\n",
            "fasttalk_intervention     1.0830      0.923      1.173      0.255      -0.849       3.015\n",
            "==============================================================================\n",
            "Omnibus:                        2.515   Durbin-Watson:                   1.334\n",
            "Prob(Omnibus):                  0.284   Jarque-Bera (JB):                1.581\n",
            "Skew:                           0.413   Prob(JB):                        0.454\n",
            "Kurtosis:                       1.978   Cond. No.                         3.09\n",
            "==============================================================================\n",
            "\n",
            "Warnings:\n",
            "[1] Standard Errors assume that the covariance matrix of the errors is correctly specified.\n"
          ],
          "name": "stdout"
        }
      ]
    },
    {
      "cell_type": "code",
      "metadata": {
        "id": "CaeEL5qpu-_J",
        "colab": {
          "base_uri": "https://localhost:8080/",
          "height": 496
        },
        "outputId": "84e030e5-1c0d-4f29-d7cd-29a55bcced32"
      },
      "source": [
        "# No-SEN SM OLS\n",
        "\n",
        "X = no_sen[regression_variables]\n",
        "y = no_sen['spring_assessment']\n",
        "\n",
        "X2 = sm.add_constant(X)\n",
        "est = sm.OLS(y, X2)\n",
        "est2 = est.fit()\n",
        "print(est2.summary())\n"
      ],
      "execution_count": null,
      "outputs": [
        {
          "output_type": "stream",
          "text": [
            "                            OLS Regression Results                            \n",
            "==============================================================================\n",
            "Dep. Variable:      spring_assessment   R-squared:                       0.036\n",
            "Model:                            OLS   Adj. R-squared:                  0.021\n",
            "Method:                 Least Squares   F-statistic:                     2.351\n",
            "Date:                Tue, 02 Jun 2020   Prob (F-statistic):             0.0738\n",
            "Time:                        20:32:17   Log-Likelihood:                -401.02\n",
            "No. Observations:                 192   AIC:                             810.0\n",
            "Df Residuals:                     188   BIC:                             823.1\n",
            "Df Model:                           3                                         \n",
            "Covariance Type:            nonrobust                                         \n",
            "=========================================================================================\n",
            "                            coef    std err          t      P>|t|      [0.025      0.975]\n",
            "-----------------------------------------------------------------------------------------\n",
            "const                     2.5512      1.012      2.521      0.013       0.555       4.548\n",
            "gender                    0.4367      0.287      1.524      0.129      -0.129       1.002\n",
            "english_proficiency       1.4251      1.000      1.425      0.156      -0.548       3.398\n",
            "fasttalk_intervention     0.4851      0.307      1.580      0.116      -0.120       1.091\n",
            "==============================================================================\n",
            "Omnibus:                        3.790   Durbin-Watson:                   1.587\n",
            "Prob(Omnibus):                  0.150   Jarque-Bera (JB):                3.141\n",
            "Skew:                           0.209   Prob(JB):                        0.208\n",
            "Kurtosis:                       2.533   Cond. No.                         15.3\n",
            "==============================================================================\n",
            "\n",
            "Warnings:\n",
            "[1] Standard Errors assume that the covariance matrix of the errors is correctly specified.\n"
          ],
          "name": "stdout"
        }
      ]
    },
    {
      "cell_type": "code",
      "metadata": {
        "id": "1h1Bm90YNmtL"
      },
      "source": [
        "from sklearn.linear_model import LinearRegression\n",
        "X = df.loc[:, 'fasttalk_intervention'].values.reshape(-1, 1)  # values converts it into a numpy array\n",
        "Y = df.loc[:, 'spring_assessment'].values.reshape(-1, 1)  # -1 means that calculate the dimension of rows, but have 1 column\n",
        "regressor = LinearRegression()  # create object for the class\n",
        "regressor.fit(X, Y)  # perform linear regression\n",
        "Y_pred = regressor.predict(X)  # make predictions"
      ],
      "execution_count": null,
      "outputs": []
    },
    {
      "cell_type": "code",
      "metadata": {
        "id": "oLUcJu-hOLIc"
      },
      "source": [
        "got_fastalk = df[df.fasttalk_intervention==1]\n",
        "no_fastalk = df[df.fasttalk_intervention==0]"
      ],
      "execution_count": null,
      "outputs": []
    },
    {
      "cell_type": "code",
      "metadata": {
        "id": "p554AWlgESIL",
        "colab": {
          "base_uri": "https://localhost:8080/",
          "height": 297
        },
        "outputId": "d9fdc2b8-7277-4bc7-8c9d-d5b471434518"
      },
      "source": [
        "df.boxplot(column='spring_assessment')"
      ],
      "execution_count": null,
      "outputs": [
        {
          "output_type": "execute_result",
          "data": {
            "text/plain": [
              "<matplotlib.axes._subplots.AxesSubplot at 0x7fb9927842e8>"
            ]
          },
          "metadata": {
            "tags": []
          },
          "execution_count": 96
        },
        {
          "output_type": "display_data",
          "data": {
            "image/png": "[encoded data removed]",
            "text/plain": [
              "<Figure size 432x288 with 1 Axes>"
            ]
          },
          "metadata": {
            "tags": [],
            "needs_background": "light"
          }
        }
      ]
    },
    {
      "cell_type": "code",
      "metadata": {
        "id": "e8149V4XFAPk",
        "colab": {
          "base_uri": "https://localhost:8080/",
          "height": 34
        },
        "outputId": "1032dce2-d818-42f1-f3e5-64cd7068676c"
      },
      "source": [
        "df.spring_assessment.quantile(0.25)"
      ],
      "execution_count": null,
      "outputs": [
        {
          "output_type": "execute_result",
          "data": {
            "text/plain": [
              "3.0"
            ]
          },
          "metadata": {
            "tags": []
          },
          "execution_count": 103
        }
      ]
    },
    {
      "cell_type": "code",
      "metadata": {
        "id": "pQm7H3kXFOA6",
        "colab": {
          "base_uri": "https://localhost:8080/",
          "height": 137
        },
        "outputId": "9041f3bc-80f5-47ff-8ce7-f2cede202e96"
      },
      "source": [
        "df.loc[df['fasttalk_intervention'] == 0].groupby('gender').count()"
      ],
      "execution_count": null,
      "outputs": [
        {
          "output_type": "execute_result",
          "data": {
            "text/html": [
              "<div>\n",
              "<style scoped>\n",
              "    .dataframe tbody tr th:only-of-type {\n",
              "        vertical-align: middle;\n",
              "    }\n",
              "\n",
              "    .dataframe tbody tr th {\n",
              "        vertical-align: top;\n",
              "    }\n",
              "\n",
              "    .dataframe thead th {\n",
              "        text-align: right;\n",
              "    }\n",
              "</style>\n",
              "<table border=\"1\" class=\"dataframe\">\n",
              "  <thead>\n",
              "    <tr style=\"text-align: right;\">\n",
              "      <th></th>\n",
              "      <th>id</th>\n",
              "      <th>school</th>\n",
              "      <th>grade</th>\n",
              "      <th>ethnicity</th>\n",
              "      <th>lunch_status</th>\n",
              "      <th>english_proficiency</th>\n",
              "      <th>special_education</th>\n",
              "      <th>fasttalk_intervention</th>\n",
              "      <th>fall_assessment</th>\n",
              "      <th>spring_assessment</th>\n",
              "    </tr>\n",
              "    <tr>\n",
              "      <th>gender</th>\n",
              "      <th></th>\n",
              "      <th></th>\n",
              "      <th></th>\n",
              "      <th></th>\n",
              "      <th></th>\n",
              "      <th></th>\n",
              "      <th></th>\n",
              "      <th></th>\n",
              "      <th></th>\n",
              "      <th></th>\n",
              "    </tr>\n",
              "  </thead>\n",
              "  <tbody>\n",
              "    <tr>\n",
              "      <th>0</th>\n",
              "      <td>75</td>\n",
              "      <td>75</td>\n",
              "      <td>75</td>\n",
              "      <td>75</td>\n",
              "      <td>75</td>\n",
              "      <td>75</td>\n",
              "      <td>75</td>\n",
              "      <td>75</td>\n",
              "      <td>75</td>\n",
              "      <td>75</td>\n",
              "    </tr>\n",
              "    <tr>\n",
              "      <th>1</th>\n",
              "      <td>70</td>\n",
              "      <td>70</td>\n",
              "      <td>70</td>\n",
              "      <td>70</td>\n",
              "      <td>70</td>\n",
              "      <td>70</td>\n",
              "      <td>70</td>\n",
              "      <td>70</td>\n",
              "      <td>70</td>\n",
              "      <td>70</td>\n",
              "    </tr>\n",
              "  </tbody>\n",
              "</table>\n",
              "</div>"
            ],
            "text/plain": [
              "        id  school  ...  fall_assessment  spring_assessment\n",
              "gender              ...                                    \n",
              "0       75      75  ...               75                 75\n",
              "1       70      70  ...               70                 70\n",
              "\n",
              "[2 rows x 10 columns]"
            ]
          },
          "metadata": {
            "tags": []
          },
          "execution_count": 117
        }
      ]
    },
    {
      "cell_type": "code",
      "metadata": {
        "id": "yrXshgMPF20e",
        "colab": {
          "base_uri": "https://localhost:8080/",
          "height": 137
        },
        "outputId": "30b606c9-1bef-441b-a52e-b474a8f28d20"
      },
      "source": [
        "df.loc[df['fasttalk_intervention'] == 1].groupby('gender').count()"
      ],
      "execution_count": null,
      "outputs": [
        {
          "output_type": "execute_result",
          "data": {
            "text/html": [
              "<div>\n",
              "<style scoped>\n",
              "    .dataframe tbody tr th:only-of-type {\n",
              "        vertical-align: middle;\n",
              "    }\n",
              "\n",
              "    .dataframe tbody tr th {\n",
              "        vertical-align: top;\n",
              "    }\n",
              "\n",
              "    .dataframe thead th {\n",
              "        text-align: right;\n",
              "    }\n",
              "</style>\n",
              "<table border=\"1\" class=\"dataframe\">\n",
              "  <thead>\n",
              "    <tr style=\"text-align: right;\">\n",
              "      <th></th>\n",
              "      <th>id</th>\n",
              "      <th>school</th>\n",
              "      <th>grade</th>\n",
              "      <th>ethnicity</th>\n",
              "      <th>lunch_status</th>\n",
              "      <th>english_proficiency</th>\n",
              "      <th>special_education</th>\n",
              "      <th>fasttalk_intervention</th>\n",
              "      <th>fall_assessment</th>\n",
              "      <th>spring_assessment</th>\n",
              "    </tr>\n",
              "    <tr>\n",
              "      <th>gender</th>\n",
              "      <th></th>\n",
              "      <th></th>\n",
              "      <th></th>\n",
              "      <th></th>\n",
              "      <th></th>\n",
              "      <th></th>\n",
              "      <th></th>\n",
              "      <th></th>\n",
              "      <th></th>\n",
              "      <th></th>\n",
              "    </tr>\n",
              "  </thead>\n",
              "  <tbody>\n",
              "    <tr>\n",
              "      <th>0</th>\n",
              "      <td>33</td>\n",
              "      <td>33</td>\n",
              "      <td>33</td>\n",
              "      <td>33</td>\n",
              "      <td>33</td>\n",
              "      <td>33</td>\n",
              "      <td>33</td>\n",
              "      <td>33</td>\n",
              "      <td>33</td>\n",
              "      <td>33</td>\n",
              "    </tr>\n",
              "    <tr>\n",
              "      <th>1</th>\n",
              "      <td>36</td>\n",
              "      <td>36</td>\n",
              "      <td>36</td>\n",
              "      <td>36</td>\n",
              "      <td>36</td>\n",
              "      <td>36</td>\n",
              "      <td>36</td>\n",
              "      <td>36</td>\n",
              "      <td>36</td>\n",
              "      <td>36</td>\n",
              "    </tr>\n",
              "  </tbody>\n",
              "</table>\n",
              "</div>"
            ],
            "text/plain": [
              "        id  school  ...  fall_assessment  spring_assessment\n",
              "gender              ...                                    \n",
              "0       33      33  ...               33                 33\n",
              "1       36      36  ...               36                 36\n",
              "\n",
              "[2 rows x 10 columns]"
            ]
          },
          "metadata": {
            "tags": []
          },
          "execution_count": 118
        }
      ]
    },
    {
      "cell_type": "code",
      "metadata": {
        "id": "ml7aqgENGEo4",
        "colab": {
          "base_uri": "https://localhost:8080/",
          "height": 137
        },
        "outputId": "32ce4909-133a-4961-b204-1cfaaaa3687f"
      },
      "source": [
        "df.groupby('lunch_status').count()"
      ],
      "execution_count": null,
      "outputs": [
        {
          "output_type": "execute_result",
          "data": {
            "text/html": [
              "<div>\n",
              "<style scoped>\n",
              "    .dataframe tbody tr th:only-of-type {\n",
              "        vertical-align: middle;\n",
              "    }\n",
              "\n",
              "    .dataframe tbody tr th {\n",
              "        vertical-align: top;\n",
              "    }\n",
              "\n",
              "    .dataframe thead th {\n",
              "        text-align: right;\n",
              "    }\n",
              "</style>\n",
              "<table border=\"1\" class=\"dataframe\">\n",
              "  <thead>\n",
              "    <tr style=\"text-align: right;\">\n",
              "      <th></th>\n",
              "      <th>id</th>\n",
              "      <th>school</th>\n",
              "      <th>grade</th>\n",
              "      <th>gender</th>\n",
              "      <th>ethnicity</th>\n",
              "      <th>english_proficiency</th>\n",
              "      <th>special_education</th>\n",
              "      <th>fasttalk_intervention</th>\n",
              "      <th>fall_assessment</th>\n",
              "      <th>spring_assessment</th>\n",
              "    </tr>\n",
              "    <tr>\n",
              "      <th>lunch_status</th>\n",
              "      <th></th>\n",
              "      <th></th>\n",
              "      <th></th>\n",
              "      <th></th>\n",
              "      <th></th>\n",
              "      <th></th>\n",
              "      <th></th>\n",
              "      <th></th>\n",
              "      <th></th>\n",
              "      <th></th>\n",
              "    </tr>\n",
              "  </thead>\n",
              "  <tbody>\n",
              "    <tr>\n",
              "      <th>0</th>\n",
              "      <td>17</td>\n",
              "      <td>17</td>\n",
              "      <td>17</td>\n",
              "      <td>17</td>\n",
              "      <td>17</td>\n",
              "      <td>17</td>\n",
              "      <td>17</td>\n",
              "      <td>17</td>\n",
              "      <td>17</td>\n",
              "      <td>17</td>\n",
              "    </tr>\n",
              "    <tr>\n",
              "      <th>1</th>\n",
              "      <td>197</td>\n",
              "      <td>197</td>\n",
              "      <td>197</td>\n",
              "      <td>197</td>\n",
              "      <td>197</td>\n",
              "      <td>197</td>\n",
              "      <td>197</td>\n",
              "      <td>197</td>\n",
              "      <td>197</td>\n",
              "      <td>197</td>\n",
              "    </tr>\n",
              "  </tbody>\n",
              "</table>\n",
              "</div>"
            ],
            "text/plain": [
              "               id  school  ...  fall_assessment  spring_assessment\n",
              "lunch_status               ...                                    \n",
              "0              17      17  ...               17                 17\n",
              "1             197     197  ...              197                197\n",
              "\n",
              "[2 rows x 10 columns]"
            ]
          },
          "metadata": {
            "tags": []
          },
          "execution_count": 119
        }
      ]
    },
    {
      "cell_type": "code",
      "metadata": {
        "id": "4bXf5Tz0KMoQ"
      },
      "source": [
        ""
      ],
      "execution_count": null,
      "outputs": []
    }
  ]
}