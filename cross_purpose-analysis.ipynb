{
  "nbformat": 4,
  "nbformat_minor": 0,
  "metadata": {
    "colab": {
      "name": "CrossPurpose Data Project.ipynb",
      "provenance": [],
      "collapsed_sections": [],
      "include_colab_link": true
    },
    "kernelspec": {
      "name": "python3",
      "display_name": "Python 3"
    }
  },
  "cells": [
    {
      "cell_type": "markdown",
      "metadata": {
        "id": "view-in-github",
        "colab_type": "text"
      },
      "source": [
        "<a href=\"https://colab.research.google.com/github/louismagowan/data_volunteering/blob/main/cross_purpose-analysis.ipynb\" target=\"_parent\"><img src=\"https://colab.research.google.com/assets/colab-badge.svg\" alt=\"Open In Colab\"/></a>"
      ]
    },
    {
      "cell_type": "markdown",
      "metadata": {
        "id": "7EVt1WabA1V8"
      },
      "source": [
        "# Setting up the environment"
      ]
    },
    {
      "cell_type": "code",
      "metadata": {
        "id": "p7M9DbA49oc8",
        "colab": {
          "base_uri": "https://localhost:8080/"
        },
        "outputId": "f70fd654-ce36-48bf-efea-e09560d671d7"
      },
      "source": [
        "from google.colab import drive\n",
        "drive.mount('/content/drive')"
      ],
      "execution_count": null,
      "outputs": [
        {
          "output_type": "stream",
          "text": [
            "Mounted at /content/drive\n"
          ],
          "name": "stdout"
        }
      ]
    },
    {
      "cell_type": "code",
      "metadata": {
        "id": "a0vSP7J92wny",
        "colab": {
          "base_uri": "https://localhost:8080/"
        },
        "outputId": "34a4832d-d87a-4d71-ffd0-9352ed66fb49"
      },
      "source": [
        "from google.colab import auth\n",
        "auth.authenticate_user()\n",
        "import gspread\n",
        "from oauth2client.client import GoogleCredentials\n",
        "gc = gspread.authorize(GoogleCredentials.get_application_default())\n",
        "import pandas as pd\n",
        "import numpy as np\n",
        "import matplotlib.pyplot as plt\n",
        "import os\n",
        "import re\n",
        "import math\n",
        "import matplotlib.ticker as ticker\n",
        "\n",
        "import statsmodels.api as sm\n",
        "from statsmodels.formula.api import logit"
      ],
      "execution_count": null,
      "outputs": [
        {
          "output_type": "stream",
          "text": [
            "/usr/local/lib/python3.6/dist-packages/statsmodels/tools/_testing.py:19: FutureWarning: pandas.util.testing is deprecated. Use the functions in the public API at pandas.testing instead.\n",
            "  import pandas.util.testing as tm\n"
          ],
          "name": "stderr"
        }
      ]
    },
    {
      "cell_type": "code",
      "metadata": {
        "id": "Km0FsKMK_qSR",
        "cellView": "form"
      },
      "source": [
        "#@title Things for prettier graphs\n",
        "\n",
        "def get_plot_cmaps():\n",
        "    \"\"\"\n",
        "    returns the jf color maps as dict\n",
        "    \"\"\"\n",
        "    # colors\n",
        "    colors = get_plot_colors(jf_template=True)\n",
        "\n",
        "    # cmap\n",
        "    cmaps = {\n",
        "        \"gcb\": [\n",
        "            colors[\"green\"][\"primary\"],\n",
        "            colors[\"cyan\"][\"primary\"],\n",
        "            colors[\"blue\"][\"primary\"],\n",
        "            colors[\"green\"][\"secondary\"],\n",
        "            colors[\"cyan\"][\"secondary\"],\n",
        "            colors[\"blue\"][\"secondary\"],\n",
        "            colors[\"green\"][\"tertiary\"],\n",
        "            colors[\"cyan\"][\"tertiary\"],\n",
        "            colors[\"blue\"][\"tertiary\"],\n",
        "        ],\n",
        "        \"cbv\": [\n",
        "            colors[\"cyan\"][\"primary\"],\n",
        "            colors[\"blue\"][\"primary\"],\n",
        "            colors[\"violet\"][\"primary\"],\n",
        "            colors[\"cyan\"][\"secondary\"],\n",
        "            colors[\"blue\"][\"secondary\"],\n",
        "            colors[\"violet\"][\"secondary\"],\n",
        "            colors[\"cyan\"][\"tertiary\"],\n",
        "            colors[\"blue\"][\"tertiary\"],\n",
        "            colors[\"violet\"][\"tertiary\"],\n",
        "        ],\n",
        "        \"bvr\": [\n",
        "            colors[\"blue\"][\"primary\"],\n",
        "            colors[\"violet\"][\"primary\"],\n",
        "            colors[\"red\"][\"primary\"],\n",
        "            colors[\"blue\"][\"secondary\"],\n",
        "            colors[\"violet\"][\"secondary\"],\n",
        "            colors[\"red\"][\"secondary\"],\n",
        "            colors[\"blue\"][\"tertiary\"],\n",
        "            colors[\"violet\"][\"tertiary\"],\n",
        "            colors[\"red\"][\"tertiary\"],\n",
        "        ],\n",
        "        \"roy\": [\n",
        "            colors[\"red\"][\"primary\"],\n",
        "            colors[\"orange\"][\"primary\"],\n",
        "            colors[\"yellow\"][\"primary\"],\n",
        "            colors[\"red\"][\"secondary\"],\n",
        "            colors[\"orange\"][\"secondary\"],\n",
        "            colors[\"yellow\"][\"secondary\"],\n",
        "            colors[\"red\"][\"tertiary\"],\n",
        "            colors[\"orange\"][\"tertiary\"],\n",
        "            colors[\"yellow\"][\"tertiary\"],\n",
        "        ],\n",
        "        \"all\": [\n",
        "            colors[\"violet\"][\"primary\"],\n",
        "            colors[\"blue\"][\"primary\"],\n",
        "            colors[\"cyan\"][\"primary\"],\n",
        "            colors[\"green\"][\"primary\"],\n",
        "            colors[\"yellow\"][\"primary\"],\n",
        "            colors[\"orange\"][\"primary\"],\n",
        "            colors[\"red\"][\"primary\"],\n",
        "            colors[\"violet\"][\"secondary\"],\n",
        "            colors[\"blue\"][\"secondary\"],\n",
        "            colors[\"cyan\"][\"secondary\"],\n",
        "            colors[\"green\"][\"secondary\"],\n",
        "            colors[\"yellow\"][\"secondary\"],\n",
        "            colors[\"orange\"][\"secondary\"],\n",
        "            colors[\"red\"][\"secondary\"],\n",
        "            colors[\"violet\"][\"tertiary\"],\n",
        "            colors[\"blue\"][\"tertiary\"],\n",
        "            colors[\"cyan\"][\"tertiary\"],\n",
        "            colors[\"green\"][\"tertiary\"],\n",
        "            colors[\"yellow\"][\"tertiary\"],\n",
        "            colors[\"orange\"][\"tertiary\"],\n",
        "            colors[\"red\"][\"tertiary\"],\n",
        "        ],\n",
        "        \"primary\": [\n",
        "            colors[\"violet\"][\"primary\"],\n",
        "            colors[\"blue\"][\"primary\"],\n",
        "            colors[\"cyan\"][\"primary\"],\n",
        "            colors[\"green\"][\"primary\"],\n",
        "            colors[\"yellow\"][\"primary\"],\n",
        "            colors[\"orange\"][\"primary\"],\n",
        "            colors[\"red\"][\"primary\"],\n",
        "        ],\n",
        "        \"secondary\": [\n",
        "            colors[\"violet\"][\"secondary\"],\n",
        "            colors[\"blue\"][\"secondary\"],\n",
        "            colors[\"cyan\"][\"secondary\"],\n",
        "            colors[\"green\"][\"secondary\"],\n",
        "            colors[\"yellow\"][\"secondary\"],\n",
        "            colors[\"orange\"][\"secondary\"],\n",
        "            colors[\"red\"][\"secondary\"],\n",
        "        ],\n",
        "        \"tertiary\": [\n",
        "            colors[\"violet\"][\"tertiary\"],\n",
        "            colors[\"blue\"][\"tertiary\"],\n",
        "            colors[\"cyan\"][\"tertiary\"],\n",
        "            colors[\"green\"][\"tertiary\"],\n",
        "            colors[\"yellow\"][\"tertiary\"],\n",
        "            colors[\"orange\"][\"tertiary\"],\n",
        "            colors[\"red\"][\"tertiary\"],\n",
        "        ],\n",
        "    }\n",
        "    return cmaps\n",
        "def set_default_font():\n",
        "    \"\"\"\n",
        "    set the jf font (Noto Sans)\n",
        "    - need to copy fonts to folder\n",
        "    \"\"\"\n",
        "    # del matplotlib cache\n",
        "    os.system('rm -fr ~/.matplotlib')\n",
        "\n",
        "    # set font family\n",
        "    plt.rcParams['font.family'] = 'Noto Sans'\n",
        "\n",
        "\n",
        "def set_default_plot_format():\n",
        "    \"\"\"\n",
        "    set predefined paramaters for plotting\n",
        "    - font\n",
        "    - formatting\n",
        "    \"\"\"\n",
        "    # font\n",
        "    set_default_font()\n",
        "\n",
        "    # formatting\n",
        "    plt.rc('font', size=24)\n",
        "    plt.rc('axes', labelsize=30, linewidth=3)\n",
        "\n",
        "def get_plot_colors(jf_template=False):\n",
        " \n",
        "    \n",
        "    # jf colors\n",
        "    if jf_template:\n",
        "        colors = {\n",
        "            \"blue\": {\n",
        "                \"default\": \"#0078ff\",\n",
        "                \"dark\": \"#094ecd\",\n",
        "                \"light\": \"#8fe2ff\"\n",
        "            },\n",
        "            \"cyan\": {\n",
        "                \"default\": \"#45dfd7\",\n",
        "                \"dark\": \"#19b5aa\",\n",
        "                \"light\": \"#a6fffa\"\n",
        "            },\n",
        "            \"green\": {\n",
        "                \"default\": \"#27e284\",\n",
        "                \"dark\": \"#00c15c\",\n",
        "                \"light\": \"#92f7c7\"\n",
        "            },\n",
        "            \"violet\": {\n",
        "                \"default\": \"#6c00ff\",\n",
        "                \"dark\": \"#5226bd\",\n",
        "                \"light\": \"#c9a6ff\"\n",
        "            },\n",
        "            \"red\": {\n",
        "                \"default\": \"#ff415b\",\n",
        "                \"dark\": \"#d51944\",\n",
        "                \"light\": \"#ff809e\"\n",
        "            },\n",
        "            \"orange\": {\n",
        "                \"default\": \"#ffa218\",\n",
        "                \"dark\": \"#f46800\",\n",
        "                \"light\": \"#ffc67b\"\n",
        "            },\n",
        "            \"yellow\": {\n",
        "                \"default\": \"#ffde3e\",\n",
        "                \"dark\": \"#ffc200\",\n",
        "                \"light\": \"#fff176\"\n",
        "            },\n",
        "            \"grey\": {\n",
        "                \"default\": \"#BAD1CF\",\n",
        "                \"dark\": \"#2a3d3d\",\n",
        "                \"light\": \"#E6F5F5\"\n",
        "            }\n",
        "        }\n",
        "    else:\n",
        "        colors = {\n",
        "            'base03': '#002b36',\n",
        "            'base02': '#073642',\n",
        "            'base01': '#586e75',\n",
        "            'base00': '#657b83',\n",
        "            'base0': '#839496',\n",
        "            'base1': '#93a1a1',\n",
        "            'base2': '#eee8d5',\n",
        "            'base3': '#fdf6e3',\n",
        "            'yellow': '#b58900',\n",
        "            'orange': '#cb4b16',\n",
        "            'red': '#dc322f',\n",
        "            'magenta': '#d33682',\n",
        "            'violet': '#6c71c4',\n",
        "            'blue': '#268bd2',\n",
        "            'cyan': '#2aa198',\n",
        "            'green': '#859900'\n",
        "        }\n",
        "    return colors\n",
        "\n",
        "\n",
        "def get_plot_cmaps():\n",
        "    \"\"\"\n",
        "    returns the jf color maps as dict\n",
        "    \"\"\"\n",
        "    # colors\n",
        "    colors = get_plot_colors(jf_template=True)\n",
        "\n",
        "    # cmap\n",
        "    cmaps = {\n",
        "        \"gcb\": [\n",
        "            colors[\"green\"][\"primary\"],\n",
        "            colors[\"cyan\"][\"primary\"],\n",
        "            colors[\"blue\"][\"primary\"],\n",
        "            colors[\"green\"][\"secondary\"],\n",
        "            colors[\"cyan\"][\"secondary\"],\n",
        "            colors[\"blue\"][\"secondary\"],\n",
        "            colors[\"green\"][\"tertiary\"],\n",
        "            colors[\"cyan\"][\"tertiary\"],\n",
        "            colors[\"blue\"][\"tertiary\"],\n",
        "        ],\n",
        "        \"cbv\": [\n",
        "            colors[\"cyan\"][\"primary\"],\n",
        "            colors[\"blue\"][\"primary\"],\n",
        "            colors[\"violet\"][\"primary\"],\n",
        "            colors[\"cyan\"][\"secondary\"],\n",
        "            colors[\"blue\"][\"secondary\"],\n",
        "            colors[\"violet\"][\"secondary\"],\n",
        "            colors[\"cyan\"][\"tertiary\"],\n",
        "            colors[\"blue\"][\"tertiary\"],\n",
        "            colors[\"violet\"][\"tertiary\"],\n",
        "        ],\n",
        "        \"bvr\": [\n",
        "            colors[\"blue\"][\"primary\"],\n",
        "            colors[\"violet\"][\"primary\"],\n",
        "            colors[\"red\"][\"primary\"],\n",
        "            colors[\"blue\"][\"secondary\"],\n",
        "            colors[\"violet\"][\"secondary\"],\n",
        "            colors[\"red\"][\"secondary\"],\n",
        "            colors[\"blue\"][\"tertiary\"],\n",
        "            colors[\"violet\"][\"tertiary\"],\n",
        "            colors[\"red\"][\"tertiary\"],\n",
        "        ],\n",
        "        \"roy\": [\n",
        "            colors[\"red\"][\"primary\"],\n",
        "            colors[\"orange\"][\"primary\"],\n",
        "            colors[\"yellow\"][\"primary\"],\n",
        "            colors[\"red\"][\"secondary\"],\n",
        "            colors[\"orange\"][\"secondary\"],\n",
        "            colors[\"yellow\"][\"secondary\"],\n",
        "            colors[\"red\"][\"tertiary\"],\n",
        "            colors[\"orange\"][\"tertiary\"],\n",
        "            colors[\"yellow\"][\"tertiary\"],\n",
        "        ],\n",
        "        \"all\": [\n",
        "            colors[\"violet\"][\"primary\"],\n",
        "            colors[\"blue\"][\"primary\"],\n",
        "            colors[\"cyan\"][\"primary\"],\n",
        "            colors[\"green\"][\"primary\"],\n",
        "            colors[\"yellow\"][\"primary\"],\n",
        "            colors[\"orange\"][\"primary\"],\n",
        "            colors[\"red\"][\"primary\"],\n",
        "            colors[\"violet\"][\"secondary\"],\n",
        "            colors[\"blue\"][\"secondary\"],\n",
        "            colors[\"cyan\"][\"secondary\"],\n",
        "            colors[\"green\"][\"secondary\"],\n",
        "            colors[\"yellow\"][\"secondary\"],\n",
        "            colors[\"orange\"][\"secondary\"],\n",
        "            colors[\"red\"][\"secondary\"],\n",
        "            colors[\"violet\"][\"tertiary\"],\n",
        "            colors[\"blue\"][\"tertiary\"],\n",
        "            colors[\"cyan\"][\"tertiary\"],\n",
        "            colors[\"green\"][\"tertiary\"],\n",
        "            colors[\"yellow\"][\"tertiary\"],\n",
        "            colors[\"orange\"][\"tertiary\"],\n",
        "            colors[\"red\"][\"tertiary\"],\n",
        "        ],\n",
        "        \"primary\": [\n",
        "            colors[\"violet\"][\"primary\"],\n",
        "            colors[\"blue\"][\"primary\"],\n",
        "            colors[\"cyan\"][\"primary\"],\n",
        "            colors[\"green\"][\"primary\"],\n",
        "            colors[\"yellow\"][\"primary\"],\n",
        "            colors[\"orange\"][\"primary\"],\n",
        "            colors[\"red\"][\"primary\"],\n",
        "        ],\n",
        "        \"secondary\": [\n",
        "            colors[\"violet\"][\"secondary\"],\n",
        "            colors[\"blue\"][\"secondary\"],\n",
        "            colors[\"cyan\"][\"secondary\"],\n",
        "            colors[\"green\"][\"secondary\"],\n",
        "            colors[\"yellow\"][\"secondary\"],\n",
        "            colors[\"orange\"][\"secondary\"],\n",
        "            colors[\"red\"][\"secondary\"],\n",
        "        ],\n",
        "        \"tertiary\": [\n",
        "            colors[\"violet\"][\"tertiary\"],\n",
        "            colors[\"blue\"][\"tertiary\"],\n",
        "            colors[\"cyan\"][\"tertiary\"],\n",
        "            colors[\"green\"][\"tertiary\"],\n",
        "            colors[\"yellow\"][\"tertiary\"],\n",
        "            colors[\"orange\"][\"tertiary\"],\n",
        "            colors[\"red\"][\"tertiary\"],\n",
        "        ],\n",
        "    }\n",
        "    return cmaps\n"
      ],
      "execution_count": null,
      "outputs": []
    },
    {
      "cell_type": "code",
      "metadata": {
        "id": "OVf7Sx7PPDAl"
      },
      "source": [
        "get_plot_colors()\n",
        "set_default_font()\n",
        "set_default_plot_format()"
      ],
      "execution_count": null,
      "outputs": []
    },
    {
      "cell_type": "markdown",
      "metadata": {
        "id": "5yWrxqvvBL4V"
      },
      "source": [
        "# Importing/cleaning the data"
      ]
    },
    {
      "cell_type": "code",
      "metadata": {
        "id": "W5tNQ6xT8veT"
      },
      "source": [
        "wb = gc.open_by_url('https://docs.google.com/spreadsheets/d/1wUq3ZxBTXzlzMlvBh4qCjcjJobBw8XPwmbFAA4rqKOY/edit#gid=955441670')\n",
        "sheet = wb.worksheet('Raw Data')\n",
        "data = sheet.get_all_values()"
      ],
      "execution_count": null,
      "outputs": []
    },
    {
      "cell_type": "markdown",
      "metadata": {
        "id": "GYTPfHGW7f09"
      },
      "source": [
        "Merged the cells, easier to just run it all at once from the raw data- just in case you lose track of what formatting you've already done or try to drop a column you'd already dropped"
      ]
    },
    {
      "cell_type": "code",
      "metadata": {
        "id": "zxrcu0pUiiVn",
        "cellView": "form"
      },
      "source": [
        "#@title Cleaning data\n",
        "df = pd.DataFrame(data)\n",
        "df.columns = df.iloc[0]\n",
        "df = df.iloc[1:]\n",
        "\n",
        "pattern = r\"[^a-zA-Z0-9]\"\n",
        "df.columns = [re.sub(pattern, \" \", x.lower().strip()) for x in df.columns]\n",
        "df.columns = [re.sub(r\"\\s+\", \"_\", x.strip()) for x in df.columns]\n",
        "\n",
        "# drop column created just for DataStudio\n",
        "df = df.drop(columns='average_tech_skills')"
      ],
      "execution_count": null,
      "outputs": []
    },
    {
      "cell_type": "code",
      "metadata": {
        "id": "taZnbq_nlSCL",
        "cellView": "form"
      },
      "source": [
        "#@title Find column selection in this cell\n",
        "# Select columns to use\n",
        "cols = ['status',\n",
        " 'graduation_wage',\n",
        "  'employed_6_months',\n",
        "  'wage_6_months',\n",
        "  'employed_12_months',\n",
        "  'wage_12_months',\n",
        "  'gender',\n",
        "  'age',\n",
        "  'application_race_ethnicity',\n",
        "  'application_highest_level_of_education',\n",
        "  'casas_math_grade',\n",
        "  'casas_reading_grade',\n",
        "  'baseline_drug_test_results',\n",
        "  'background_check_status',\n",
        "  'typing_scores',\n",
        "  'application_are_you_a_u_s_citizen',\n",
        "  'application_do_you_identify_as_a_single_parent',\n",
        "  'application_do_you_receive_any_government_assistance',\n",
        "  'basic_computer_skills',\n",
        "  'internet_basics',\n",
        "  'windows_10',\n",
        "  'using_email',\n",
        "  'microsoft_word',\n",
        "  'social_media',\n",
        "  'excel',\n",
        "  'commute_time_min']\n",
        "\n",
        "clean = df[cols].copy()"
      ],
      "execution_count": null,
      "outputs": []
    },
    {
      "cell_type": "code",
      "metadata": {
        "id": "LQrC3uNhmm9o",
        "colab": {
          "base_uri": "https://localhost:8080/",
          "height": 284
        },
        "outputId": "76cc40a7-e3be-45de-861b-d36e104a2d04"
      },
      "source": [
        "clean.head()"
      ],
      "execution_count": null,
      "outputs": [
        {
          "output_type": "execute_result",
          "data": {
            "text/html": [
              "<div>\n",
              "<style scoped>\n",
              "    .dataframe tbody tr th:only-of-type {\n",
              "        vertical-align: middle;\n",
              "    }\n",
              "\n",
              "    .dataframe tbody tr th {\n",
              "        vertical-align: top;\n",
              "    }\n",
              "\n",
              "    .dataframe thead th {\n",
              "        text-align: right;\n",
              "    }\n",
              "</style>\n",
              "<table border=\"1\" class=\"dataframe\">\n",
              "  <thead>\n",
              "    <tr style=\"text-align: right;\">\n",
              "      <th></th>\n",
              "      <th>status</th>\n",
              "      <th>graduation_wage</th>\n",
              "      <th>employed_6_months</th>\n",
              "      <th>wage_6_months</th>\n",
              "      <th>employed_12_months</th>\n",
              "      <th>wage_12_months</th>\n",
              "      <th>gender</th>\n",
              "      <th>age</th>\n",
              "      <th>application_race_ethnicity</th>\n",
              "      <th>application_highest_level_of_education</th>\n",
              "      <th>casas_math_grade</th>\n",
              "      <th>casas_reading_grade</th>\n",
              "      <th>baseline_drug_test_results</th>\n",
              "      <th>background_check_status</th>\n",
              "      <th>typing_scores</th>\n",
              "      <th>application_are_you_a_u_s_citizen</th>\n",
              "      <th>application_do_you_identify_as_a_single_parent</th>\n",
              "      <th>application_do_you_receive_any_government_assistance</th>\n",
              "      <th>basic_computer_skills</th>\n",
              "      <th>internet_basics</th>\n",
              "      <th>windows_10</th>\n",
              "      <th>using_email</th>\n",
              "      <th>microsoft_word</th>\n",
              "      <th>social_media</th>\n",
              "      <th>excel</th>\n",
              "      <th>commute_time_min</th>\n",
              "    </tr>\n",
              "  </thead>\n",
              "  <tbody>\n",
              "    <tr>\n",
              "      <th>1</th>\n",
              "      <td>Out Of Program</td>\n",
              "      <td></td>\n",
              "      <td></td>\n",
              "      <td></td>\n",
              "      <td></td>\n",
              "      <td></td>\n",
              "      <td>Male</td>\n",
              "      <td>24</td>\n",
              "      <td>Hispanic or Latino</td>\n",
              "      <td>Some college, no degree</td>\n",
              "      <td>12</td>\n",
              "      <td>12</td>\n",
              "      <td>Positive, THC</td>\n",
              "      <td>Misdemeanor</td>\n",
              "      <td>38</td>\n",
              "      <td>1</td>\n",
              "      <td>0</td>\n",
              "      <td>1</td>\n",
              "      <td>95</td>\n",
              "      <td>94</td>\n",
              "      <td>96</td>\n",
              "      <td>96</td>\n",
              "      <td>92</td>\n",
              "      <td>91</td>\n",
              "      <td>71</td>\n",
              "      <td></td>\n",
              "    </tr>\n",
              "    <tr>\n",
              "      <th>2</th>\n",
              "      <td>Graduated</td>\n",
              "      <td>16.00</td>\n",
              "      <td>Yes</td>\n",
              "      <td>15.00</td>\n",
              "      <td>Yes</td>\n",
              "      <td>15.00</td>\n",
              "      <td>Female</td>\n",
              "      <td>18</td>\n",
              "      <td>Hispanic or Latino</td>\n",
              "      <td>High school diploma or GED</td>\n",
              "      <td>8</td>\n",
              "      <td>10</td>\n",
              "      <td>Negative</td>\n",
              "      <td>Clean</td>\n",
              "      <td>39</td>\n",
              "      <td>1</td>\n",
              "      <td>1</td>\n",
              "      <td>1</td>\n",
              "      <td>86</td>\n",
              "      <td>90</td>\n",
              "      <td>86</td>\n",
              "      <td>92</td>\n",
              "      <td>91</td>\n",
              "      <td>91</td>\n",
              "      <td>93</td>\n",
              "      <td></td>\n",
              "    </tr>\n",
              "    <tr>\n",
              "      <th>3</th>\n",
              "      <td>Out Of Program</td>\n",
              "      <td></td>\n",
              "      <td></td>\n",
              "      <td></td>\n",
              "      <td></td>\n",
              "      <td></td>\n",
              "      <td>Male</td>\n",
              "      <td>35</td>\n",
              "      <td>White</td>\n",
              "      <td>Bachelor?s degree</td>\n",
              "      <td>12</td>\n",
              "      <td>7</td>\n",
              "      <td>Negative</td>\n",
              "      <td>Traffic Infractions ONLY</td>\n",
              "      <td>22</td>\n",
              "      <td>0</td>\n",
              "      <td>0</td>\n",
              "      <td>1</td>\n",
              "      <td>88</td>\n",
              "      <td>100</td>\n",
              "      <td>93</td>\n",
              "      <td>89</td>\n",
              "      <td>86</td>\n",
              "      <td>81</td>\n",
              "      <td>66</td>\n",
              "      <td></td>\n",
              "    </tr>\n",
              "    <tr>\n",
              "      <th>4</th>\n",
              "      <td>Out Of Program</td>\n",
              "      <td></td>\n",
              "      <td></td>\n",
              "      <td></td>\n",
              "      <td></td>\n",
              "      <td></td>\n",
              "      <td>Female</td>\n",
              "      <td>48</td>\n",
              "      <td>Asian</td>\n",
              "      <td>Associate degree</td>\n",
              "      <td>12</td>\n",
              "      <td>12</td>\n",
              "      <td>Negative</td>\n",
              "      <td>Traffic Infractions ONLY</td>\n",
              "      <td></td>\n",
              "      <td>1</td>\n",
              "      <td>0</td>\n",
              "      <td>1</td>\n",
              "      <td></td>\n",
              "      <td></td>\n",
              "      <td></td>\n",
              "      <td></td>\n",
              "      <td></td>\n",
              "      <td></td>\n",
              "      <td></td>\n",
              "      <td></td>\n",
              "    </tr>\n",
              "    <tr>\n",
              "      <th>5</th>\n",
              "      <td>Out Of Program</td>\n",
              "      <td></td>\n",
              "      <td></td>\n",
              "      <td></td>\n",
              "      <td></td>\n",
              "      <td></td>\n",
              "      <td>Male</td>\n",
              "      <td>51</td>\n",
              "      <td>Black or African American</td>\n",
              "      <td>Technical/Vocational certificate</td>\n",
              "      <td>11</td>\n",
              "      <td>12</td>\n",
              "      <td>Negative</td>\n",
              "      <td>Misdemeanor + Felony</td>\n",
              "      <td></td>\n",
              "      <td>1</td>\n",
              "      <td>0</td>\n",
              "      <td>0</td>\n",
              "      <td>83</td>\n",
              "      <td>99</td>\n",
              "      <td>76</td>\n",
              "      <td>89</td>\n",
              "      <td>88</td>\n",
              "      <td>83</td>\n",
              "      <td></td>\n",
              "      <td></td>\n",
              "    </tr>\n",
              "  </tbody>\n",
              "</table>\n",
              "</div>"
            ],
            "text/plain": [
              "           status graduation_wage  ... excel commute_time_min\n",
              "1  Out Of Program                  ...    71                 \n",
              "2       Graduated           16.00  ...    93                 \n",
              "3  Out Of Program                  ...    66                 \n",
              "4  Out Of Program                  ...                       \n",
              "5  Out Of Program                  ...                       \n",
              "\n",
              "[5 rows x 26 columns]"
            ]
          },
          "metadata": {
            "tags": []
          },
          "execution_count": 9
        }
      ]
    },
    {
      "cell_type": "code",
      "metadata": {
        "id": "CADB8fWH-2Vn",
        "cellView": "form"
      },
      "source": [
        "#@title Convert columns to numeric \n",
        "numeric_columns = ['graduation_wage', 'wage_6_months', 'wage_12_months', 'age', 'casas_math_grade', 'casas_reading_grade',\n",
        "                   'typing_scores', 'basic_computer_skills', 'internet_basics', 'windows_10', 'using_email', 'microsoft_word',\n",
        "                   'social_media', 'excel', 'commute_time_min']\n",
        "\n",
        "for column in numeric_columns:\n",
        "  clean[column] = pd.to_numeric(clean[column], errors='coerce')"
      ],
      "execution_count": null,
      "outputs": []
    },
    {
      "cell_type": "code",
      "metadata": {
        "id": "Wi3ZSxW_urrt",
        "cellView": "form"
      },
      "source": [
        "#@title Create variable to measure data completeness\n",
        "#@markdown Perhaps the people who are more serious about completing are more likely to provide all the info\n",
        "data_completeness_cols = clean.isna().sum().sort_values(ascending=False).head(12).index.to_list()\n",
        "data_completeness_cols = [\n",
        "#'wage_12_months',\n",
        " #'wage_6_months',\n",
        " #'graduation_wage', #### Exclude wage data\n",
        " 'social_media',\n",
        " 'excel',\n",
        " 'microsoft_word',\n",
        " 'windows_10',\n",
        " 'using_email',\n",
        " 'internet_basics',\n",
        " 'basic_computer_skills',\n",
        " 'commute_time_min',\n",
        " 'typing_scores']\n",
        "\n",
        "col_count = len(data_completeness_cols)\n",
        "\n",
        "num_missing_data = clean[data_completeness_cols].isna().sum(axis=1)\n",
        "\n",
        "clean['data_completeness'] = (col_count - num_missing_data) * 100 / col_count\n"
      ],
      "execution_count": null,
      "outputs": []
    },
    {
      "cell_type": "markdown",
      "metadata": {
        "id": "1DmVWZYso-B9"
      },
      "source": [
        "# **Regressions**"
      ]
    },
    {
      "cell_type": "markdown",
      "metadata": {
        "id": "dBfdnX6M9IQk"
      },
      "source": [
        "# Multivariate"
      ]
    },
    {
      "cell_type": "code",
      "metadata": {
        "id": "ZbPUctUmsVpb"
      },
      "source": [
        "regdf = clean.copy()\n",
        "# regdf.loc[regdf.wage_12_months>=0, 'wage_12_months'].value_counts()"
      ],
      "execution_count": null,
      "outputs": []
    },
    {
      "cell_type": "code",
      "metadata": {
        "id": "NJ1HF6TJsmvx",
        "colab": {
          "base_uri": "https://localhost:8080/"
        },
        "outputId": "8c4da6a0-f9a4-41de-8c84-48426dd147c2"
      },
      "source": [
        "# There's quite a lot of missing data on wages 6/12 months\n",
        "regdf.wage_6_months.value_counts().head()"
      ],
      "execution_count": null,
      "outputs": [
        {
          "output_type": "execute_result",
          "data": {
            "text/plain": [
              "16.0    11\n",
              "14.0     8\n",
              "15.0     7\n",
              "14.5     6\n",
              "20.0     4\n",
              "Name: wage_6_months, dtype: int64"
            ]
          },
          "metadata": {
            "tags": []
          },
          "execution_count": 13
        }
      ]
    },
    {
      "cell_type": "code",
      "metadata": {
        "id": "xyTZM25ipQy5"
      },
      "source": [
        "# Select multivariate regression variables\n",
        "regdf.loc[regdf.status == 'Out Of Program', 'status'] = 0\n",
        "regdf.loc[regdf.status == 'Graduated', 'status'] = 1\n",
        "regression_variables = [\n",
        "                        'casas_reading_grade',\n",
        "                        'casas_math_grade',\n",
        "                        'microsoft_word',\n",
        "                        'windows_10',\n",
        "                        'commute_time_min',\n",
        "                        'social_media',\n",
        "                        'basic_computer_skills',\n",
        "                        'excel',\n",
        "                        'data_completeness'\n",
        "                        ]\n",
        "\n",
        "\n",
        "# dependent variable\n",
        "y = regdf.graduation_wage.fillna(0)"
      ],
      "execution_count": null,
      "outputs": []
    },
    {
      "cell_type": "code",
      "metadata": {
        "id": "crrn_vGdpHBs",
        "colab": {
          "base_uri": "https://localhost:8080/"
        },
        "outputId": "22ff369c-e497-42c2-a4df-b00443f59e14"
      },
      "source": [
        "# Statsmodel Ordinary Least Squares- Multivariate Regression\n",
        "X = regdf[regression_variables].fillna(0)\n",
        "y = y\n",
        "\n",
        "X2 = sm.add_constant(X)\n",
        "est = sm.OLS(y, X2)\n",
        "est2 = est.fit()\n",
        "print(est2.summary())"
      ],
      "execution_count": null,
      "outputs": [
        {
          "output_type": "stream",
          "text": [
            "                            OLS Regression Results                            \n",
            "==============================================================================\n",
            "Dep. Variable:        graduation_wage   R-squared:                       0.080\n",
            "Model:                            OLS   Adj. R-squared:                  0.064\n",
            "Method:                 Least Squares   F-statistic:                     5.017\n",
            "Date:                Sat, 28 Nov 2020   Prob (F-statistic):           1.68e-06\n",
            "Time:                        10:40:44   Log-Likelihood:                -1852.6\n",
            "No. Observations:                 531   AIC:                             3725.\n",
            "Df Residuals:                     521   BIC:                             3768.\n",
            "Df Model:                           9                                         \n",
            "Covariance Type:            nonrobust                                         \n",
            "=========================================================================================\n",
            "                            coef    std err          t      P>|t|      [0.025      0.975]\n",
            "-----------------------------------------------------------------------------------------\n",
            "const                     1.5138      2.463      0.615      0.539      -3.324       6.352\n",
            "casas_reading_grade       0.1548      0.218      0.709      0.478      -0.274       0.583\n",
            "casas_math_grade         -0.0145      0.178     -0.082      0.935      -0.364       0.335\n",
            "microsoft_word           -0.0019      0.025     -0.076      0.940      -0.051       0.047\n",
            "windows_10               -0.0075      0.023     -0.329      0.742      -0.052       0.037\n",
            "commute_time_min         -0.0005      0.014     -0.038      0.970      -0.029       0.028\n",
            "social_media             -0.0082      0.015     -0.526      0.599      -0.039       0.022\n",
            "basic_computer_skills     0.0190      0.020      0.961      0.337      -0.020       0.058\n",
            "excel                     0.0224      0.021      1.062      0.289      -0.019       0.064\n",
            "data_completeness         0.0429      0.035      1.244      0.214      -0.025       0.111\n",
            "==============================================================================\n",
            "Omnibus:                      647.037   Durbin-Watson:                   1.973\n",
            "Prob(Omnibus):                  0.000   Jarque-Bera (JB):               45.446\n",
            "Skew:                           0.328   Prob(JB):                     1.35e-10\n",
            "Kurtosis:                       1.726   Cond. No.                     1.15e+03\n",
            "==============================================================================\n",
            "\n",
            "Warnings:\n",
            "[1] Standard Errors assume that the covariance matrix of the errors is correctly specified.\n",
            "[2] The condition number is large, 1.15e+03. This might indicate that there are\n",
            "strong multicollinearity or other numerical problems.\n"
          ],
          "name": "stdout"
        }
      ]
    },
    {
      "cell_type": "code",
      "metadata": {
        "id": "rSwPWqH4qy-B",
        "colab": {
          "base_uri": "https://localhost:8080/",
          "height": 257
        },
        "outputId": "a745ecc4-51d7-4d63-f4f6-4973283a1785"
      },
      "source": [
        "# Extract summary into df\n",
        "lm_overview = est2.summary2().tables[0]\n",
        "lm_overview.columns = ['one', 'two', 'three', 'four']\n",
        "lm_overview"
      ],
      "execution_count": null,
      "outputs": [
        {
          "output_type": "execute_result",
          "data": {
            "text/html": [
              "<div>\n",
              "<style scoped>\n",
              "    .dataframe tbody tr th:only-of-type {\n",
              "        vertical-align: middle;\n",
              "    }\n",
              "\n",
              "    .dataframe tbody tr th {\n",
              "        vertical-align: top;\n",
              "    }\n",
              "\n",
              "    .dataframe thead th {\n",
              "        text-align: right;\n",
              "    }\n",
              "</style>\n",
              "<table border=\"1\" class=\"dataframe\">\n",
              "  <thead>\n",
              "    <tr style=\"text-align: right;\">\n",
              "      <th></th>\n",
              "      <th>one</th>\n",
              "      <th>two</th>\n",
              "      <th>three</th>\n",
              "      <th>four</th>\n",
              "    </tr>\n",
              "  </thead>\n",
              "  <tbody>\n",
              "    <tr>\n",
              "      <th>0</th>\n",
              "      <td>Model:</td>\n",
              "      <td>OLS</td>\n",
              "      <td>Adj. R-squared:</td>\n",
              "      <td>0.064</td>\n",
              "    </tr>\n",
              "    <tr>\n",
              "      <th>1</th>\n",
              "      <td>Dependent Variable:</td>\n",
              "      <td>graduation_wage</td>\n",
              "      <td>AIC:</td>\n",
              "      <td>3725.1520</td>\n",
              "    </tr>\n",
              "    <tr>\n",
              "      <th>2</th>\n",
              "      <td>Date:</td>\n",
              "      <td>2020-11-28 10:40</td>\n",
              "      <td>BIC:</td>\n",
              "      <td>3767.8996</td>\n",
              "    </tr>\n",
              "    <tr>\n",
              "      <th>3</th>\n",
              "      <td>No. Observations:</td>\n",
              "      <td>531</td>\n",
              "      <td>Log-Likelihood:</td>\n",
              "      <td>-1852.6</td>\n",
              "    </tr>\n",
              "    <tr>\n",
              "      <th>4</th>\n",
              "      <td>Df Model:</td>\n",
              "      <td>9</td>\n",
              "      <td>F-statistic:</td>\n",
              "      <td>5.017</td>\n",
              "    </tr>\n",
              "    <tr>\n",
              "      <th>5</th>\n",
              "      <td>Df Residuals:</td>\n",
              "      <td>521</td>\n",
              "      <td>Prob (F-statistic):</td>\n",
              "      <td>1.68e-06</td>\n",
              "    </tr>\n",
              "    <tr>\n",
              "      <th>6</th>\n",
              "      <td>R-squared:</td>\n",
              "      <td>0.080</td>\n",
              "      <td>Scale:</td>\n",
              "      <td>63.996</td>\n",
              "    </tr>\n",
              "  </tbody>\n",
              "</table>\n",
              "</div>"
            ],
            "text/plain": [
              "                   one               two                three       four\n",
              "0               Model:               OLS      Adj. R-squared:      0.064\n",
              "1  Dependent Variable:   graduation_wage                 AIC:  3725.1520\n",
              "2                Date:  2020-11-28 10:40                 BIC:  3767.8996\n",
              "3    No. Observations:               531      Log-Likelihood:    -1852.6\n",
              "4            Df Model:                 9         F-statistic:      5.017\n",
              "5        Df Residuals:               521  Prob (F-statistic):   1.68e-06\n",
              "6           R-squared:             0.080               Scale:     63.996"
            ]
          },
          "metadata": {
            "tags": []
          },
          "execution_count": 16
        }
      ]
    },
    {
      "cell_type": "code",
      "metadata": {
        "id": "hQGbRHlKxIiO",
        "colab": {
          "base_uri": "https://localhost:8080/"
        },
        "outputId": "6fb22311-49ef-481e-dd3b-f04d1f798d86"
      },
      "source": [
        "# Prob F-stats\n",
        "lm_fstat = lm_overview.loc[lm_overview.three == 'Prob (F-statistic):', 'four'].values[0]\n",
        "lm_fstat = float(lm_fstat)\n",
        "\n",
        "if lm_fstat <= 0.05:\n",
        "  print(\"{:.10f}\".format(lm_fstat) + \" - the model is significant!\")"
      ],
      "execution_count": null,
      "outputs": [
        {
          "output_type": "stream",
          "text": [
            "0.0000016800 - the model is significant!\n"
          ],
          "name": "stdout"
        }
      ]
    },
    {
      "cell_type": "code",
      "metadata": {
        "id": "JwRIVPR2zJ7S",
        "colab": {
          "base_uri": "https://localhost:8080/"
        },
        "outputId": "c77bd6ef-892b-41a4-94e0-e8ef3a44f813"
      },
      "source": [
        "# Adj. R-Squared\n",
        "lm_fstat = lm_overview.loc[lm_overview.three == 'Adj. R-squared:', 'four'].values[0]\n",
        "lm_fstat = float(lm_fstat)\n",
        "\n",
        "if lm_fstat <= 0.2:\n",
        "  print(\"{:.10f}\".format(lm_fstat) + \" - the selected regression variables had little impact on the dependent variable\")\n",
        "\n",
        "elif lm_fstat > 0.2 and lm_fstat <= 0.6:\n",
        "  print(\"{:.10f}\".format(lm_fstat) + \" - the selected regression variables had moderate impact on the dependent variable\")\n",
        "\n",
        "else:\n",
        "  print(\"{:.10f}\".format(lm_fstat) + \" - the selected regression variables had major impact on the dependent variable\")"
      ],
      "execution_count": null,
      "outputs": [
        {
          "output_type": "stream",
          "text": [
            "0.0640000000 - the selected regression variables had little impact on the dependent variable\n"
          ],
          "name": "stdout"
        }
      ]
    },
    {
      "cell_type": "code",
      "metadata": {
        "id": "WCcoiB6urV3M",
        "colab": {
          "base_uri": "https://localhost:8080/",
          "height": 347
        },
        "outputId": "d0b05e83-2d74-4392-9305-23b2e84b1815"
      },
      "source": [
        "# Extract coefficient results into df\n",
        "lm_coefficients = est2.summary2().tables[1]\n",
        "lm_coefficients"
      ],
      "execution_count": null,
      "outputs": [
        {
          "output_type": "execute_result",
          "data": {
            "text/html": [
              "<div>\n",
              "<style scoped>\n",
              "    .dataframe tbody tr th:only-of-type {\n",
              "        vertical-align: middle;\n",
              "    }\n",
              "\n",
              "    .dataframe tbody tr th {\n",
              "        vertical-align: top;\n",
              "    }\n",
              "\n",
              "    .dataframe thead th {\n",
              "        text-align: right;\n",
              "    }\n",
              "</style>\n",
              "<table border=\"1\" class=\"dataframe\">\n",
              "  <thead>\n",
              "    <tr style=\"text-align: right;\">\n",
              "      <th></th>\n",
              "      <th>Coef.</th>\n",
              "      <th>Std.Err.</th>\n",
              "      <th>t</th>\n",
              "      <th>P&gt;|t|</th>\n",
              "      <th>[0.025</th>\n",
              "      <th>0.975]</th>\n",
              "    </tr>\n",
              "  </thead>\n",
              "  <tbody>\n",
              "    <tr>\n",
              "      <th>const</th>\n",
              "      <td>1.513806</td>\n",
              "      <td>2.462714</td>\n",
              "      <td>0.614690</td>\n",
              "      <td>0.539028</td>\n",
              "      <td>-3.324264</td>\n",
              "      <td>6.351876</td>\n",
              "    </tr>\n",
              "    <tr>\n",
              "      <th>casas_reading_grade</th>\n",
              "      <td>0.154775</td>\n",
              "      <td>0.218208</td>\n",
              "      <td>0.709303</td>\n",
              "      <td>0.478454</td>\n",
              "      <td>-0.273900</td>\n",
              "      <td>0.583450</td>\n",
              "    </tr>\n",
              "    <tr>\n",
              "      <th>casas_math_grade</th>\n",
              "      <td>-0.014518</td>\n",
              "      <td>0.177681</td>\n",
              "      <td>-0.081708</td>\n",
              "      <td>0.934910</td>\n",
              "      <td>-0.363576</td>\n",
              "      <td>0.334541</td>\n",
              "    </tr>\n",
              "    <tr>\n",
              "      <th>microsoft_word</th>\n",
              "      <td>-0.001888</td>\n",
              "      <td>0.024935</td>\n",
              "      <td>-0.075717</td>\n",
              "      <td>0.939673</td>\n",
              "      <td>-0.050873</td>\n",
              "      <td>0.047097</td>\n",
              "    </tr>\n",
              "    <tr>\n",
              "      <th>windows_10</th>\n",
              "      <td>-0.007499</td>\n",
              "      <td>0.022808</td>\n",
              "      <td>-0.328767</td>\n",
              "      <td>0.742464</td>\n",
              "      <td>-0.052306</td>\n",
              "      <td>0.037309</td>\n",
              "    </tr>\n",
              "    <tr>\n",
              "      <th>commute_time_min</th>\n",
              "      <td>-0.000540</td>\n",
              "      <td>0.014373</td>\n",
              "      <td>-0.037556</td>\n",
              "      <td>0.970056</td>\n",
              "      <td>-0.028775</td>\n",
              "      <td>0.027695</td>\n",
              "    </tr>\n",
              "    <tr>\n",
              "      <th>social_media</th>\n",
              "      <td>-0.008155</td>\n",
              "      <td>0.015498</td>\n",
              "      <td>-0.526181</td>\n",
              "      <td>0.598987</td>\n",
              "      <td>-0.038601</td>\n",
              "      <td>0.022291</td>\n",
              "    </tr>\n",
              "    <tr>\n",
              "      <th>basic_computer_skills</th>\n",
              "      <td>0.019026</td>\n",
              "      <td>0.019805</td>\n",
              "      <td>0.960696</td>\n",
              "      <td>0.337151</td>\n",
              "      <td>-0.019880</td>\n",
              "      <td>0.057933</td>\n",
              "    </tr>\n",
              "    <tr>\n",
              "      <th>excel</th>\n",
              "      <td>0.022392</td>\n",
              "      <td>0.021076</td>\n",
              "      <td>1.062424</td>\n",
              "      <td>0.288536</td>\n",
              "      <td>-0.019013</td>\n",
              "      <td>0.063797</td>\n",
              "    </tr>\n",
              "    <tr>\n",
              "      <th>data_completeness</th>\n",
              "      <td>0.042923</td>\n",
              "      <td>0.034515</td>\n",
              "      <td>1.243628</td>\n",
              "      <td>0.214196</td>\n",
              "      <td>-0.024882</td>\n",
              "      <td>0.110728</td>\n",
              "    </tr>\n",
              "  </tbody>\n",
              "</table>\n",
              "</div>"
            ],
            "text/plain": [
              "                          Coef.  Std.Err.  ...    [0.025    0.975]\n",
              "const                  1.513806  2.462714  ... -3.324264  6.351876\n",
              "casas_reading_grade    0.154775  0.218208  ... -0.273900  0.583450\n",
              "casas_math_grade      -0.014518  0.177681  ... -0.363576  0.334541\n",
              "microsoft_word        -0.001888  0.024935  ... -0.050873  0.047097\n",
              "windows_10            -0.007499  0.022808  ... -0.052306  0.037309\n",
              "commute_time_min      -0.000540  0.014373  ... -0.028775  0.027695\n",
              "social_media          -0.008155  0.015498  ... -0.038601  0.022291\n",
              "basic_computer_skills  0.019026  0.019805  ... -0.019880  0.057933\n",
              "excel                  0.022392  0.021076  ... -0.019013  0.063797\n",
              "data_completeness      0.042923  0.034515  ... -0.024882  0.110728\n",
              "\n",
              "[10 rows x 6 columns]"
            ]
          },
          "metadata": {
            "tags": []
          },
          "execution_count": 19
        }
      ]
    },
    {
      "cell_type": "code",
      "metadata": {
        "id": "qsjHCnps2Xm7",
        "colab": {
          "base_uri": "https://localhost:8080/",
          "height": 47
        },
        "outputId": "acd229aa-bcb6-4b20-88f6-0ef81579d3fb"
      },
      "source": [
        "# Select variables where p < 0.1\n",
        "lm_coefficients[lm_coefficients['P>|t|'] <= 0.1]"
      ],
      "execution_count": null,
      "outputs": [
        {
          "output_type": "execute_result",
          "data": {
            "text/html": [
              "<div>\n",
              "<style scoped>\n",
              "    .dataframe tbody tr th:only-of-type {\n",
              "        vertical-align: middle;\n",
              "    }\n",
              "\n",
              "    .dataframe tbody tr th {\n",
              "        vertical-align: top;\n",
              "    }\n",
              "\n",
              "    .dataframe thead th {\n",
              "        text-align: right;\n",
              "    }\n",
              "</style>\n",
              "<table border=\"1\" class=\"dataframe\">\n",
              "  <thead>\n",
              "    <tr style=\"text-align: right;\">\n",
              "      <th></th>\n",
              "      <th>Coef.</th>\n",
              "      <th>Std.Err.</th>\n",
              "      <th>t</th>\n",
              "      <th>P&gt;|t|</th>\n",
              "      <th>[0.025</th>\n",
              "      <th>0.975]</th>\n",
              "    </tr>\n",
              "  </thead>\n",
              "  <tbody>\n",
              "  </tbody>\n",
              "</table>\n",
              "</div>"
            ],
            "text/plain": [
              "Empty DataFrame\n",
              "Columns: [Coef., Std.Err., t, P>|t|, [0.025, 0.975]]\n",
              "Index: []"
            ]
          },
          "metadata": {
            "tags": []
          },
          "execution_count": 20
        }
      ]
    },
    {
      "cell_type": "markdown",
      "metadata": {
        "id": "ss86-yGn9NLO"
      },
      "source": [
        "# Logistic"
      ]
    },
    {
      "cell_type": "code",
      "metadata": {
        "id": "O42sAexB9Z4T"
      },
      "source": [
        "# Create df copy for Logistic Regression\n",
        "log_regdf = clean.copy()\n",
        "\n",
        "# select with or without ethnicity\n",
        "ethnicity_included = 'yes'"
      ],
      "execution_count": null,
      "outputs": []
    },
    {
      "cell_type": "code",
      "metadata": {
        "id": "nY7IEQgDtu1A",
        "cellView": "form"
      },
      "source": [
        "#@title Select variables to drop in this cell\n",
        "drop_cols = [\n",
        "        'basic_computer_skills',\n",
        "       'internet_basics',\n",
        "        'windows_10', \n",
        "        'using_email',\n",
        "         'microsoft_word',\n",
        "       'social_media',\n",
        "        'excel',\n",
        "       'background_check_status', \n",
        "       'casas_math_grade',\n",
        "        'casas_reading_grade',\n",
        "       'graduation_wage', \n",
        "       'employed_6_months',\n",
        "       'wage_6_months',\n",
        "        'employed_12_months',\n",
        "         'wage_12_months',\n",
        "        'application_highest_level_of_education', # recoded to college_educated\n",
        "        'application_race_ethnicity', # recoded to ethnicity\n",
        "       'baseline_drug_test_results'\n",
        "       ]"
      ],
      "execution_count": null,
      "outputs": []
    },
    {
      "cell_type": "code",
      "metadata": {
        "id": "24G3ZR4-9MWw",
        "cellView": "form"
      },
      "source": [
        "#@title <b>Prep regression variables: \n",
        "#@markdown - Collapse Variables: Increase sample sizes, reduce multicollinearity\n",
        "#@markdown - Drop unnecessary features\n",
        "#@markdown - Recode variables into binary ones or simpler categories\n",
        "#@markdown - Create 'status' dependent variable\n",
        "#@markdown - Do some other tidying\n",
        "\n",
        "\n",
        "# create 0-1 dependent variable from status\n",
        "log_regdf.loc[log_regdf.status == 'Graduated', 'status'] = 1\n",
        "log_regdf.loc[log_regdf.status == 'Out Of Program', 'status'] = 0\n",
        "log_regdf.status = log_regdf.status.astype(float)\n",
        "\n",
        "# Create \"computer_skills variable\"\n",
        "################## Tell them to try and collect more complete data,\n",
        "# people who are missing one skill will have much lower averages ############\n",
        "####### May want to keep in just basic_computer_skills since\n",
        "# Jamie said it was significant\n",
        "# it was also significant in multivariate\n",
        "log_regdf['computer_skills'] = log_regdf[['basic_computer_skills',\n",
        "       'internet_basics',\n",
        "        'windows_10',\n",
        "         'using_email',\n",
        "          'microsoft_word',\n",
        "       'social_media', \n",
        "       'excel'\n",
        "       ]].fillna(0).mean(axis=1)\n",
        "\n",
        "# Create \"criminal_record\" variable\n",
        "# 1 has no criminal record, 0 does\n",
        "log_regdf['criminal_record'] = 0\n",
        "log_regdf.loc[log_regdf.background_check_status == \"Clean\", 'criminal_record'] = 1\n",
        "\n",
        "# Create academic score variable\n",
        "log_regdf['academic_score'] = log_regdf[['casas_math_grade',\n",
        "                                         'casas_reading_grade'\n",
        "                                         ]].fillna(0).mean(axis=1)\n",
        "\n",
        "# Create \"drug_test\" variable\n",
        "# 0 is positive, 1 is negative \n",
        "log_regdf['drug_test'] = 0\n",
        "log_regdf.loc[log_regdf.baseline_drug_test_results == \"Negative\",\n",
        "              'drug_test'] = 1\n",
        "\n",
        "\n",
        "# Create \"college_educated\" variable\n",
        "# Think just group people into those who went to college 1\n",
        "# vs those that didn't 0\n",
        "pattern = r\".*(?<!no )degree.*\"\n",
        "log_regdf['college_educated'] = 0\n",
        "log_regdf.loc[log_regdf.application_highest_level_of_education.str.contains(pattern),\n",
        "              'college_educated'] = 1\n",
        "\n",
        "\n",
        "\n",
        "# Recode gender\n",
        "# Drop non-binary\n",
        "log_regdf = log_regdf[(log_regdf.gender == \"Male\")|(log_regdf.gender == \"Female\")]\n",
        "# Make binary: 0 for male, 1 for female\n",
        "log_regdf.gender = np.where((log_regdf.gender == \"Male\"), 0, 1)\n",
        "\n",
        "\n",
        "# Recode ethnicity\n",
        "log_regdf['ethnicity'] = 'other'\n",
        "log_regdf.loc[log_regdf.application_race_ethnicity=='White', 'ethnicity'] = \"white\"\n",
        "log_regdf.loc[log_regdf.application_race_ethnicity=='Black or African American', 'ethnicity'] = \"black\"\n",
        "log_regdf.loc[log_regdf.application_race_ethnicity=='Hispanic or Latino', 'ethnicity'] = \"hispanic\"\n",
        "\n",
        "# If including ethnicity, create dummies\n",
        "if ethnicity_included == 'yes':\n",
        "  log_regdf = pd.get_dummies(log_regdf, columns= ['ethnicity'])\n",
        "else:\n",
        "  log_regdf = log_regdf.drop(columns='ethnicity')\n",
        "\n",
        "##### Select columns to drop\n",
        "log_regdf = log_regdf.drop(columns=drop_cols)\n",
        "\n",
        "log_regdf = log_regdf.rename(columns={\"application_are_you_a_u_s_citizen\" : \"us_citizenship\",\n",
        "                                      \"application_do_you_identify_as_a_single_parent\" \n",
        "                                      : \"single_parent\",\n",
        "                                      \"application_do_you_receive_any_government_assistance\":\n",
        "                                      \"government_assistance\",\n",
        "                                      \"commute_time_min\":\n",
        "                                      \"commute_time\"})\n",
        "\n",
        "\n",
        "# convert some pesky cols to ints\n",
        "log_regdf[['us_citizenship',\n",
        "           'single_parent',\n",
        "           'government_assistance']] =log_regdf[['us_citizenship',\n",
        "           'single_parent',\n",
        "           'government_assistance']].astype(int)\n",
        "\n",
        "# Need to drop typing_scores and commute_time (they're already being factored into data completeness, so not totally cut out)\n",
        "# Also drop the 3 null age records\n",
        "# If keeping in basic computer skills, need to treat NaNs here\n",
        "log_regdf = log_regdf.drop(columns = ['typing_scores', 'commute_time']).dropna()"
      ],
      "execution_count": null,
      "outputs": []
    },
    {
      "cell_type": "code",
      "metadata": {
        "id": "O7YeFifgSE-t",
        "cellView": "form"
      },
      "source": [
        "#@title Select dependent and independent variables here\n",
        "# Dependent variable\n",
        "y = log_regdf.status.astype(int)\n",
        "\n",
        "# Independent variables\n",
        "regressors = [x for x in log_regdf.columns if x not in 'status']\n",
        "X = sm.add_constant(log_regdf[regressors])"
      ],
      "execution_count": null,
      "outputs": []
    },
    {
      "cell_type": "code",
      "metadata": {
        "id": "wbXkxcuihKph",
        "colab": {
          "base_uri": "https://localhost:8080/",
          "height": 217
        },
        "outputId": "3b5d3ba2-8473-4faf-90b3-6ad1a8ef641f"
      },
      "source": [
        "log_regdf.head()"
      ],
      "execution_count": null,
      "outputs": [
        {
          "output_type": "execute_result",
          "data": {
            "text/html": [
              "<div>\n",
              "<style scoped>\n",
              "    .dataframe tbody tr th:only-of-type {\n",
              "        vertical-align: middle;\n",
              "    }\n",
              "\n",
              "    .dataframe tbody tr th {\n",
              "        vertical-align: top;\n",
              "    }\n",
              "\n",
              "    .dataframe thead th {\n",
              "        text-align: right;\n",
              "    }\n",
              "</style>\n",
              "<table border=\"1\" class=\"dataframe\">\n",
              "  <thead>\n",
              "    <tr style=\"text-align: right;\">\n",
              "      <th></th>\n",
              "      <th>status</th>\n",
              "      <th>gender</th>\n",
              "      <th>age</th>\n",
              "      <th>us_citizenship</th>\n",
              "      <th>single_parent</th>\n",
              "      <th>government_assistance</th>\n",
              "      <th>data_completeness</th>\n",
              "      <th>computer_skills</th>\n",
              "      <th>criminal_record</th>\n",
              "      <th>academic_score</th>\n",
              "      <th>drug_test</th>\n",
              "      <th>college_educated</th>\n",
              "      <th>ethnicity_black</th>\n",
              "      <th>ethnicity_hispanic</th>\n",
              "      <th>ethnicity_other</th>\n",
              "      <th>ethnicity_white</th>\n",
              "    </tr>\n",
              "  </thead>\n",
              "  <tbody>\n",
              "    <tr>\n",
              "      <th>1</th>\n",
              "      <td>0.0</td>\n",
              "      <td>0</td>\n",
              "      <td>24.0</td>\n",
              "      <td>1</td>\n",
              "      <td>0</td>\n",
              "      <td>1</td>\n",
              "      <td>88.888889</td>\n",
              "      <td>90.714286</td>\n",
              "      <td>0</td>\n",
              "      <td>12.0</td>\n",
              "      <td>0</td>\n",
              "      <td>0</td>\n",
              "      <td>0</td>\n",
              "      <td>1</td>\n",
              "      <td>0</td>\n",
              "      <td>0</td>\n",
              "    </tr>\n",
              "    <tr>\n",
              "      <th>2</th>\n",
              "      <td>1.0</td>\n",
              "      <td>1</td>\n",
              "      <td>18.0</td>\n",
              "      <td>1</td>\n",
              "      <td>1</td>\n",
              "      <td>1</td>\n",
              "      <td>88.888889</td>\n",
              "      <td>89.857143</td>\n",
              "      <td>1</td>\n",
              "      <td>9.0</td>\n",
              "      <td>1</td>\n",
              "      <td>0</td>\n",
              "      <td>0</td>\n",
              "      <td>1</td>\n",
              "      <td>0</td>\n",
              "      <td>0</td>\n",
              "    </tr>\n",
              "    <tr>\n",
              "      <th>3</th>\n",
              "      <td>0.0</td>\n",
              "      <td>0</td>\n",
              "      <td>35.0</td>\n",
              "      <td>0</td>\n",
              "      <td>0</td>\n",
              "      <td>1</td>\n",
              "      <td>88.888889</td>\n",
              "      <td>86.142857</td>\n",
              "      <td>0</td>\n",
              "      <td>9.5</td>\n",
              "      <td>1</td>\n",
              "      <td>1</td>\n",
              "      <td>0</td>\n",
              "      <td>0</td>\n",
              "      <td>0</td>\n",
              "      <td>1</td>\n",
              "    </tr>\n",
              "    <tr>\n",
              "      <th>4</th>\n",
              "      <td>0.0</td>\n",
              "      <td>1</td>\n",
              "      <td>48.0</td>\n",
              "      <td>1</td>\n",
              "      <td>0</td>\n",
              "      <td>1</td>\n",
              "      <td>0.000000</td>\n",
              "      <td>0.000000</td>\n",
              "      <td>0</td>\n",
              "      <td>12.0</td>\n",
              "      <td>1</td>\n",
              "      <td>1</td>\n",
              "      <td>0</td>\n",
              "      <td>0</td>\n",
              "      <td>1</td>\n",
              "      <td>0</td>\n",
              "    </tr>\n",
              "    <tr>\n",
              "      <th>5</th>\n",
              "      <td>0.0</td>\n",
              "      <td>0</td>\n",
              "      <td>51.0</td>\n",
              "      <td>1</td>\n",
              "      <td>0</td>\n",
              "      <td>0</td>\n",
              "      <td>66.666667</td>\n",
              "      <td>74.000000</td>\n",
              "      <td>0</td>\n",
              "      <td>11.5</td>\n",
              "      <td>1</td>\n",
              "      <td>0</td>\n",
              "      <td>1</td>\n",
              "      <td>0</td>\n",
              "      <td>0</td>\n",
              "      <td>0</td>\n",
              "    </tr>\n",
              "  </tbody>\n",
              "</table>\n",
              "</div>"
            ],
            "text/plain": [
              "   status  gender   age  ...  ethnicity_hispanic  ethnicity_other  ethnicity_white\n",
              "1     0.0       0  24.0  ...                   1                0                0\n",
              "2     1.0       1  18.0  ...                   1                0                0\n",
              "3     0.0       0  35.0  ...                   0                0                1\n",
              "4     0.0       1  48.0  ...                   0                1                0\n",
              "5     0.0       0  51.0  ...                   0                0                0\n",
              "\n",
              "[5 rows x 16 columns]"
            ]
          },
          "metadata": {
            "tags": []
          },
          "execution_count": 25
        }
      ]
    },
    {
      "cell_type": "code",
      "metadata": {
        "id": "9k4vlG7WsPsN",
        "cellView": "form",
        "colab": {
          "base_uri": "https://localhost:8080/"
        },
        "outputId": "482c51b2-97a0-4f4d-b170-b394e1f3bd59"
      },
      "source": [
        "#@title Run initial model\n",
        "logit_model=sm.Logit(y,X)\n",
        "result=logit_model.fit()\n",
        "print(result.summary2())\n",
        "\n",
        "# Backwards elimination of variables\n",
        "log_coefficients = result.summary2().tables[1]"
      ],
      "execution_count": null,
      "outputs": [
        {
          "output_type": "stream",
          "text": [
            "Optimization terminated successfully.\n",
            "         Current function value: 0.632740\n",
            "         Iterations 5\n",
            "                                    Results: Logit\n",
            "======================================================================================\n",
            "Model:                     Logit                   Pseudo R-squared:        0.079     \n",
            "Dependent Variable:        status                  AIC:                     695.6427  \n",
            "Date:                      2020-11-28 10:41        BIC:                     759.6222  \n",
            "No. Observations:          526                     Log-Likelihood:          -332.82   \n",
            "Df Model:                  14                      LL-Null:                 -361.39   \n",
            "Df Residuals:              511                     LLR p-value:             3.6996e-07\n",
            "Converged:                 1.0000                  Scale:                   1.0000    \n",
            "No. Iterations:            5.0000                                                     \n",
            "--------------------------------------------------------------------------------------\n",
            "                       Coef.    Std.Err.      z    P>|z|      [0.025         0.975]   \n",
            "--------------------------------------------------------------------------------------\n",
            "const                 -1.2657 7802894.7234 -0.0000 1.0000 -15293393.8988 15293391.3674\n",
            "gender                 0.3322       0.2123  1.5647 0.1177        -0.0839        0.7484\n",
            "age                   -0.0179       0.0106 -1.6910 0.0908        -0.0387        0.0029\n",
            "us_citizenship         0.3487       0.4377  0.7965 0.4257        -0.5093        1.2066\n",
            "single_parent          0.2882       0.2109  1.3666 0.1718        -0.1251        0.7015\n",
            "government_assistance -0.4972       0.2126 -2.3388 0.0193        -0.9139       -0.0805\n",
            "data_completeness      0.0191       0.0100  1.9203 0.0548        -0.0004        0.0386\n",
            "computer_skills       -0.0034       0.0094 -0.3641 0.7158        -0.0218        0.0150\n",
            "criminal_record       -0.0855       0.1981 -0.4318 0.6659        -0.4739        0.3028\n",
            "academic_score         0.0363       0.0611  0.5946 0.5521        -0.0834        0.1560\n",
            "drug_test              0.1245       0.2097  0.5939 0.5526        -0.2864        0.5354\n",
            "college_educated       0.5588       0.3192  1.7506 0.0800        -0.0668        1.1844\n",
            "ethnicity_black       -0.5051 7802894.7234 -0.0000 1.0000 -15293393.1382 15293392.1280\n",
            "ethnicity_hispanic    -0.1419 7802894.7234 -0.0000 1.0000 -15293392.7750 15293392.4912\n",
            "ethnicity_other       -0.3752 7802894.7234 -0.0000 1.0000 -15293393.0083 15293392.2579\n",
            "ethnicity_white       -0.2435 7802894.7234 -0.0000 1.0000 -15293392.8766 15293392.3896\n",
            "======================================================================================\n",
            "\n"
          ],
          "name": "stdout"
        }
      ]
    },
    {
      "cell_type": "code",
      "metadata": {
        "id": "tce3poi0il5t",
        "cellView": "form",
        "colab": {
          "base_uri": "https://localhost:8080/",
          "height": 107
        },
        "outputId": "9a0b3512-849a-4ddb-bcf8-942ba4345617"
      },
      "source": [
        "#@title Select the signficiant variables from the initial, rough model\n",
        "log_coefficients[log_coefficients['P>|z|'] <= 0.07]"
      ],
      "execution_count": null,
      "outputs": [
        {
          "output_type": "execute_result",
          "data": {
            "text/html": [
              "<div>\n",
              "<style scoped>\n",
              "    .dataframe tbody tr th:only-of-type {\n",
              "        vertical-align: middle;\n",
              "    }\n",
              "\n",
              "    .dataframe tbody tr th {\n",
              "        vertical-align: top;\n",
              "    }\n",
              "\n",
              "    .dataframe thead th {\n",
              "        text-align: right;\n",
              "    }\n",
              "</style>\n",
              "<table border=\"1\" class=\"dataframe\">\n",
              "  <thead>\n",
              "    <tr style=\"text-align: right;\">\n",
              "      <th></th>\n",
              "      <th>Coef.</th>\n",
              "      <th>Std.Err.</th>\n",
              "      <th>z</th>\n",
              "      <th>P&gt;|z|</th>\n",
              "      <th>[0.025</th>\n",
              "      <th>0.975]</th>\n",
              "    </tr>\n",
              "  </thead>\n",
              "  <tbody>\n",
              "    <tr>\n",
              "      <th>government_assistance</th>\n",
              "      <td>-0.497246</td>\n",
              "      <td>0.212607</td>\n",
              "      <td>-2.338801</td>\n",
              "      <td>0.019346</td>\n",
              "      <td>-0.913949</td>\n",
              "      <td>-0.080543</td>\n",
              "    </tr>\n",
              "    <tr>\n",
              "      <th>data_completeness</th>\n",
              "      <td>0.019108</td>\n",
              "      <td>0.009951</td>\n",
              "      <td>1.920258</td>\n",
              "      <td>0.054825</td>\n",
              "      <td>-0.000395</td>\n",
              "      <td>0.038611</td>\n",
              "    </tr>\n",
              "  </tbody>\n",
              "</table>\n",
              "</div>"
            ],
            "text/plain": [
              "                          Coef.  Std.Err.  ...    [0.025    0.975]\n",
              "government_assistance -0.497246  0.212607  ... -0.913949 -0.080543\n",
              "data_completeness      0.019108  0.009951  ... -0.000395  0.038611\n",
              "\n",
              "[2 rows x 6 columns]"
            ]
          },
          "metadata": {
            "tags": []
          },
          "execution_count": 27
        }
      ]
    },
    {
      "cell_type": "code",
      "metadata": {
        "id": "X9VzsVli4EzS",
        "colab": {
          "base_uri": "https://localhost:8080/"
        },
        "cellView": "form",
        "outputId": "83588024-61f5-41b5-85e0-3fecc41f185b"
      },
      "source": [
        "#@title While loop that iterates model until no variables have p>0.25\n",
        "while log_coefficients['P>|z|'].max() > 0.25:\n",
        "    # Select variable with highest p value and drop it\n",
        "    val_to_drop = log_coefficients['P>|z|'].idxmax()\n",
        "    keep_cols = log_coefficients.drop(val_to_drop).index.to_list()\n",
        "    # Need to remove constant prediction, as it's recreated each time\n",
        "    keep_cols = [x for x in keep_cols if x != 'const']\n",
        "    # Rerun model without the dropped variable\n",
        "    X = sm.add_constant(log_regdf[keep_cols])\n",
        "    logit_model=sm.Logit(y,X)\n",
        "    result=logit_model.fit()\n",
        "    log_coefficients = result.summary2().tables[1]\n",
        "\n",
        "else:\n",
        "  print('All variables have p<0.25')\n",
        "  print(result.summary2())"
      ],
      "execution_count": null,
      "outputs": [
        {
          "output_type": "stream",
          "text": [
            "Optimization terminated successfully.\n",
            "         Current function value: 0.632740\n",
            "         Iterations 5\n",
            "Optimization terminated successfully.\n",
            "         Current function value: 0.632866\n",
            "         Iterations 5\n",
            "Optimization terminated successfully.\n",
            "         Current function value: 0.633031\n",
            "         Iterations 5\n",
            "Optimization terminated successfully.\n",
            "         Current function value: 0.633173\n",
            "         Iterations 5\n",
            "Optimization terminated successfully.\n",
            "         Current function value: 0.633397\n",
            "         Iterations 5\n",
            "Optimization terminated successfully.\n",
            "         Current function value: 0.633665\n",
            "         Iterations 5\n",
            "Optimization terminated successfully.\n",
            "         Current function value: 0.634160\n",
            "         Iterations 5\n",
            "Optimization terminated successfully.\n",
            "         Current function value: 0.634871\n",
            "         Iterations 5\n",
            "All variables have p<0.25\n",
            "                           Results: Logit\n",
            "=====================================================================\n",
            "Model:                Logit             Pseudo R-squared:  0.076     \n",
            "Dependent Variable:   status            AIC:               683.8844  \n",
            "Date:                 2020-11-28 10:41  BIC:               718.0068  \n",
            "No. Observations:     526               Log-Likelihood:    -333.94   \n",
            "Df Model:             7                 LL-Null:           -361.39   \n",
            "Df Residuals:         518               LLR p-value:       1.5620e-09\n",
            "Converged:            1.0000            Scale:             1.0000    \n",
            "No. Iterations:       5.0000                                         \n",
            "---------------------------------------------------------------------\n",
            "                       Coef.  Std.Err.    z    P>|z|   [0.025  0.975]\n",
            "---------------------------------------------------------------------\n",
            "const                 -0.8372   0.4203 -1.9917 0.0464 -1.6610 -0.0133\n",
            "gender                 0.3181   0.2065  1.5404 0.1235 -0.0866  0.7228\n",
            "age                   -0.0148   0.0099 -1.4971 0.1344 -0.0341  0.0046\n",
            "single_parent          0.3046   0.2082  1.4628 0.1435 -0.1035  0.7128\n",
            "government_assistance -0.4793   0.2094 -2.2889 0.0221 -0.8898 -0.0689\n",
            "data_completeness      0.0159   0.0028  5.6277 0.0000  0.0104  0.0214\n",
            "college_educated       0.5065   0.3078  1.6455 0.0999 -0.0968  1.1098\n",
            "ethnicity_black       -0.2862   0.2009 -1.4248 0.1542 -0.6800  0.1075\n",
            "=====================================================================\n",
            "\n"
          ],
          "name": "stdout"
        }
      ]
    },
    {
      "cell_type": "code",
      "metadata": {
        "id": "RS6edCW6ckOi",
        "colab": {
          "base_uri": "https://localhost:8080/",
          "height": 137
        },
        "cellView": "form",
        "outputId": "e6e776a1-188d-4997-f9a0-5bbb9242a7cb"
      },
      "source": [
        "#@title Select the signficiant variables\n",
        "log_coefficients[log_coefficients['P>|z|'] <= 0.05]"
      ],
      "execution_count": null,
      "outputs": [
        {
          "output_type": "execute_result",
          "data": {
            "text/html": [
              "<div>\n",
              "<style scoped>\n",
              "    .dataframe tbody tr th:only-of-type {\n",
              "        vertical-align: middle;\n",
              "    }\n",
              "\n",
              "    .dataframe tbody tr th {\n",
              "        vertical-align: top;\n",
              "    }\n",
              "\n",
              "    .dataframe thead th {\n",
              "        text-align: right;\n",
              "    }\n",
              "</style>\n",
              "<table border=\"1\" class=\"dataframe\">\n",
              "  <thead>\n",
              "    <tr style=\"text-align: right;\">\n",
              "      <th></th>\n",
              "      <th>Coef.</th>\n",
              "      <th>Std.Err.</th>\n",
              "      <th>z</th>\n",
              "      <th>P&gt;|z|</th>\n",
              "      <th>[0.025</th>\n",
              "      <th>0.975]</th>\n",
              "    </tr>\n",
              "  </thead>\n",
              "  <tbody>\n",
              "    <tr>\n",
              "      <th>const</th>\n",
              "      <td>-0.837183</td>\n",
              "      <td>0.420342</td>\n",
              "      <td>-1.991671</td>\n",
              "      <td>4.640716e-02</td>\n",
              "      <td>-1.661039</td>\n",
              "      <td>-0.013328</td>\n",
              "    </tr>\n",
              "    <tr>\n",
              "      <th>government_assistance</th>\n",
              "      <td>-0.479341</td>\n",
              "      <td>0.209423</td>\n",
              "      <td>-2.288860</td>\n",
              "      <td>2.208749e-02</td>\n",
              "      <td>-0.889803</td>\n",
              "      <td>-0.068879</td>\n",
              "    </tr>\n",
              "    <tr>\n",
              "      <th>data_completeness</th>\n",
              "      <td>0.015902</td>\n",
              "      <td>0.002826</td>\n",
              "      <td>5.627711</td>\n",
              "      <td>1.826166e-08</td>\n",
              "      <td>0.010364</td>\n",
              "      <td>0.021440</td>\n",
              "    </tr>\n",
              "  </tbody>\n",
              "</table>\n",
              "</div>"
            ],
            "text/plain": [
              "                          Coef.  Std.Err.  ...    [0.025    0.975]\n",
              "const                 -0.837183  0.420342  ... -1.661039 -0.013328\n",
              "government_assistance -0.479341  0.209423  ... -0.889803 -0.068879\n",
              "data_completeness      0.015902  0.002826  ...  0.010364  0.021440\n",
              "\n",
              "[3 rows x 6 columns]"
            ]
          },
          "metadata": {
            "tags": []
          },
          "execution_count": 29
        }
      ]
    },
    {
      "cell_type": "code",
      "metadata": {
        "id": "hWjJzBteda8x",
        "cellView": "form",
        "colab": {
          "base_uri": "https://localhost:8080/"
        },
        "outputId": "735590d7-8fc0-4ce2-dc7d-7373eb371637"
      },
      "source": [
        "#@title Look at model significance\n",
        "log_overview = result.summary2().tables[0]\n",
        "log_overview.columns = ['one', 'two', 'three', 'four']\n",
        "log_overview.four = pd.to_numeric(log_overview.four)\n",
        "model_significance = log_overview.loc[log_overview.three=='LLR p-value:', 'four'].values[0]\n",
        "\n",
        "if model_significance < 0.1:\n",
        "  print(f\"Model was significant! p-value = {model_significance}\")"
      ],
      "execution_count": null,
      "outputs": [
        {
          "output_type": "stream",
          "text": [
            "Model was significant! p-value = 1.562e-09\n"
          ],
          "name": "stdout"
        }
      ]
    },
    {
      "cell_type": "code",
      "metadata": {
        "id": "R6ypTdASRvlo"
      },
      "source": [
        "# Select variable you want to evaluate\n",
        "variable = 'data_completeness'"
      ],
      "execution_count": null,
      "outputs": []
    },
    {
      "cell_type": "code",
      "metadata": {
        "id": "ntjTqdbM0P2e",
        "cellView": "form"
      },
      "source": [
        "#@title Convert to probabilities and get variables for graph\n",
        "# Sum log_odds\n",
        "overall_log_odds = log_coefficients['Coef.'].sum()\n",
        "# Remove variable you want to compare, along with upper and lower confidence intervals\n",
        "odds_to_remove = log_coefficients.loc[log_coefficients.index==variable, 'Coef.'].values[0]\n",
        "odds_to_remove_lower = log_coefficients.loc[log_coefficients.index==variable, '[0.025'].values[0]\n",
        "odds_to_remove_upper = log_coefficients.loc[log_coefficients.index==variable, '0.975]'].values[0]\n",
        "\n",
        "base = overall_log_odds - odds_to_remove\n",
        "lower = overall_log_odds - odds_to_remove_lower\n",
        "upper = overall_log_odds - odds_to_remove_upper\n",
        "\n",
        "# plus 1 unit change, 1% more data completeness, female instead of male, 1 more mark in academic score\n",
        "# the unit change is determined by the scale of the variable being considered\n",
        "\n",
        "if variable == 'data_completeness':\n",
        "  comp = overall_log_odds + odds_to_remove*100\n",
        "  comp_lower = overall_log_odds + odds_to_remove_lower*100\n",
        "  comp_upper = overall_log_odds + odds_to_remove_upper*100\n",
        "\n",
        "elif variable == 'computer_skills':\n",
        "  comp = overall_log_odds + odds_to_remove*100\n",
        "  comp_lower = overall_log_odds + odds_to_remove_lower*100\n",
        "  comp_upper = overall_log_odds + odds_to_remove_upper*100\n",
        "\n",
        "else:\n",
        "  comp = overall_log_odds + odds_to_remove\n",
        "  comp_lower = overall_log_odds + odds_to_remove_lower\n",
        "  comp_upper = overall_log_odds + odds_to_remove_upper\n",
        "\n",
        "# base probability\n",
        "base_prob = math.exp(base)/(1 + math.exp(base)) * 100\n",
        "base_prob_lower = math.exp(lower)/(1 + math.exp(lower)) * 100\n",
        "base_prob_upper = math.exp(upper)/(1 + math.exp(upper)) * 100\n",
        "\n",
        "# comp probability\n",
        "comp_prob = math.exp(comp)/(1 + math.exp(comp)) * 100\n",
        "comp_prob_lower = math.exp(comp_lower)/(1 + math.exp(comp_lower)) * 100\n",
        "comp_prob_upper = math.exp(comp_upper)/(1 + math.exp(comp_upper)) * 100\n",
        "\n",
        "\n",
        "# Get variables for graph\n",
        "diff = np.round(comp_prob - base_prob, 3)\n",
        "p_val = log_coefficients.loc[log_coefficients.index==variable,\n",
        "                             'P>|z|'].values[0].round(4)\n",
        "controls = \", \".join([x.replace(\"_\", \" \").title() for x in keep_cols])\n"
      ],
      "execution_count": null,
      "outputs": []
    },
    {
      "cell_type": "code",
      "metadata": {
        "colab": {
          "base_uri": "https://localhost:8080/"
        },
        "cellView": "form",
        "id": "EliUujgzdzI-",
        "outputId": "383d78df-36ca-49bb-a218-200a42c7a143"
      },
      "source": [
        "#@title Probability of graduating with variable\n",
        "print(f\"\\033[1mThe probability of graduating when a candidate has a {variable} (if categorical)\\n\\\n",
        "or has 100% {variable} if it's a metric, is \\033[95m{np.round(comp_prob, 2)}%\")"
      ],
      "execution_count": null,
      "outputs": [
        {
          "output_type": "stream",
          "text": [
            "\u001b[1mThe probability of graduating when a candidate has a data_completeness (if categorical)\n",
            "or has 100% data_completeness if it's a metric, is \u001b[95m75.36%\n"
          ],
          "name": "stdout"
        }
      ]
    },
    {
      "cell_type": "code",
      "metadata": {
        "colab": {
          "base_uri": "https://localhost:8080/"
        },
        "cellView": "form",
        "id": "fBheb95df5gh",
        "outputId": "eb346362-d0af-43f0-ec64-03b82c0eab3b"
      },
      "source": [
        "#@title Probability of graduating without variable\n",
        "print(f\"\\033[1mThe probability of graduating when a candidate doesn not have a {variable} (if categorical)\\n\\\n",
        "or has 0% {variable} if it's a metric, is \\033[95m{np.round(base_prob, 2)}%\")"
      ],
      "execution_count": null,
      "outputs": [
        {
          "output_type": "stream",
          "text": [
            "\u001b[1mThe probability of graduating when a candidate doesn not have a data_completeness (if categorical)\n",
            "or has 0% data_completeness if it's a metric, is \u001b[95m38.03%\n"
          ],
          "name": "stdout"
        }
      ]
    },
    {
      "cell_type": "code",
      "metadata": {
        "id": "z-rucdhsTWea",
        "colab": {
          "base_uri": "https://localhost:8080/"
        },
        "cellView": "form",
        "outputId": "3ace6f27-836c-4d29-91c6-a931ea7c833b"
      },
      "source": [
        "#@title Difference\n",
        "print(f'\\033[1mWhen {variable} is added in, after for controlling for\\n\\\n",
        " {[x for x in keep_cols if x != variable]},\\n inclusion of \"{variable}\" \\\n",
        "means a person is \\033[95m{diff}% more likely to graduate')"
      ],
      "execution_count": null,
      "outputs": [
        {
          "output_type": "stream",
          "text": [
            "\u001b[1mWhen data_completeness is added in, after for controlling for\n",
            " ['gender', 'age', 'single_parent', 'government_assistance', 'college_educated', 'ethnicity_black'],\n",
            " inclusion of \"data_completeness\" means a person is \u001b[95m37.328% more likely to graduate\n"
          ],
          "name": "stdout"
        }
      ]
    },
    {
      "cell_type": "code",
      "metadata": {
        "id": "fd5dowoRVdbT",
        "colab": {
          "base_uri": "https://localhost:8080/",
          "height": 706
        },
        "outputId": "867ea71b-2adf-4f24-fcd0-0a90add0cabe"
      },
      "source": [
        "#@title Plot graph of probability \n",
        "clean_variable = variable.replace(\"_\", \" \").title()\n",
        "fig, ax = plt.subplots(figsize=(24,12))\n",
        "\n",
        "x = [f\"Without {clean_variable}\", f\"With {clean_variable}\"]\n",
        "\n",
        "# middle estimate\n",
        "y_normal = [base_prob, comp_prob]\n",
        "ax.plot(x, y_normal, label='Mid Estimate')\n",
        "\n",
        "# Create and plot upper and lower bounds\n",
        "y_lower = [base_prob_lower, comp_prob_lower]\n",
        "y_upper = [base_prob_upper, comp_prob_upper]\n",
        "ax.fill_between(x, (y_lower), (y_upper), color='tab:blue', alpha=0.1,\n",
        "                label='Confidence Intervals')\n",
        "\n",
        "# Customise y-axis\n",
        "ax.set_ylabel('Probability of Graduating', fontweight='semibold', labelpad=15)\n",
        "ax.yaxis.set_major_formatter(ticker.PercentFormatter())\n",
        "\n",
        "# Hide plots\n",
        "[ax.spines[loc].set_visible(False) for loc in ['top', 'right']]\n",
        "\n",
        "# Title\n",
        "ax.set_title(f'Differences in Probability of Graduating| {clean_variable}| CrossPurpose', fontweight='semibold', pad=25)\n",
        "\n",
        "\n",
        "# plot results bg box\n",
        "plt.text(0.97, 0.64, ' ', color='tab:blue', \n",
        "         bbox=dict(facecolor='tab:grey', \n",
        "                   edgecolor='tab:grey', \n",
        "                   alpha=0.08, pad=100, mutation_aspect=0.2), \n",
        "         fontsize=42, fontweight='bold', transform=plt.gcf().transFigure, \n",
        "         horizontalalignment='center')\n",
        "\n",
        "# Plot text\n",
        "plt.text(0.97, 0.67, f'Difference: {diff}%', \n",
        "     color='black', fontsize=18, fontweight='bold', alpha=0.8,\n",
        "     transform=plt.gcf().transFigure, horizontalalignment='center', verticalalignment='center')  \n",
        "# Plot text\n",
        "plt.text(0.97, 0.64, f'p-value: {p_val}', \n",
        "     color='black', fontsize=18, fontweight='bold', alpha=0.8,\n",
        "     transform=plt.gcf().transFigure, horizontalalignment='center', verticalalignment='center') \n",
        "\n",
        "# Plot text\n",
        "plt.text(0.51, 0.03, f\"Controlling for: {controls}\", \n",
        "     color='tab:red', alpha=0.6, fontsize=18, fontweight='bold', \n",
        "     transform=plt.gcf().transFigure, horizontalalignment='center', verticalalignment='center') \n",
        "\n",
        "\n",
        "# Legend\n",
        "ax.legend(bbox_to_anchor=(0.98, 0.9),\n",
        "          frameon=False, borderaxespad=0.1, loc='upper left')"
      ],
      "execution_count": null,
      "outputs": [
        {
          "output_type": "execute_result",
          "data": {
            "text/plain": [
              "<matplotlib.legend.Legend at 0x7f0cf0082e10>"
            ]
          },
          "metadata": {
            "tags": []
          },
          "execution_count": 41
        },
        {
          "output_type": "display_data",
          "data": {
            "image/png": "[encoded data removed]",
            "text/plain": [
              "<Figure size 1728x864 with 1 Axes>"
            ]
          },
          "metadata": {
            "tags": [],
            "needs_background": "light"
          }
        }
      ]
    }
  ]
}